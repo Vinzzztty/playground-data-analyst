{
  "nbformat": 4,
  "nbformat_minor": 0,
  "metadata": {
    "colab": {
      "provenance": []
    },
    "kernelspec": {
      "name": "python3",
      "display_name": "Python 3"
    },
    "language_info": {
      "name": "python"
    }
  },
  "cells": [
    {
      "cell_type": "markdown",
      "source": [
        "# Laporan Proyek Machine Learning - Kevin Arnandes\n",
        "\n",
        "### Proyek Machine Learning: Prediksi Pertumbuhan Selada Dengan Random Forest\n",
        "- **Nama:** Kevin Arnandes\n",
        "- **Email:** kevinarnandes21@gmail.com\n",
        "- **ID Dicoding:** kevinarnandes"
      ],
      "metadata": {
        "id": "FfTjLNRCRRVm"
      }
    },
    {
      "cell_type": "markdown",
      "source": [
        "## Domain Proyek"
      ],
      "metadata": {
        "id": "BHiPejp6RtCh"
      }
    },
    {
      "cell_type": "markdown",
      "source": [
        "## Business Understanding"
      ],
      "metadata": {
        "id": "grpmNVbdRwLO"
      }
    },
    {
      "cell_type": "markdown",
      "source": [
        "### Problem Statements"
      ],
      "metadata": {
        "id": "zNc0VEILR0lH"
      }
    },
    {
      "cell_type": "markdown",
      "source": [
        "### Goals"
      ],
      "metadata": {
        "id": "d-ZRPLXXR2jv"
      }
    },
    {
      "cell_type": "markdown",
      "source": [
        "## Data Understanding"
      ],
      "metadata": {
        "id": "OB9Yj019R46i"
      }
    },
    {
      "cell_type": "markdown",
      "source": [
        "### Variabel Variabel pada Dataset Pertumbuhan Selada sebagai berikut:"
      ],
      "metadata": {
        "id": "cToau4pJR9Ul"
      }
    },
    {
      "cell_type": "markdown",
      "source": [
        "## Data Preparation"
      ],
      "metadata": {
        "id": "GnH-U3OpSDiM"
      }
    },
    {
      "cell_type": "markdown",
      "source": [
        "## Modeling"
      ],
      "metadata": {
        "id": "g-jd3CgqSGnr"
      }
    },
    {
      "cell_type": "markdown",
      "source": [
        "## Evaluation"
      ],
      "metadata": {
        "id": "4g-1_0uJSJ3A"
      }
    }
  ]
}