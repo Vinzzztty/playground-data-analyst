{
  "cells": [
    {
      "cell_type": "markdown",
      "metadata": {
        "id": "FfTjLNRCRRVm"
      },
      "source": [
        "# Proyek Machine Learning: Prediksi Pertumbuhan Selada Dengan Algoritma Machine Learning\n",
        "\n",
        "- **Nama:** Kevin Arnandes\n",
        "- **Email:** kevinarnandes21@gmail.com\n",
        "- **ID Dicoding:** kevinarnandes"
      ]
    },
    {
      "cell_type": "markdown",
      "metadata": {
        "id": "OB9Yj019R46i"
      },
      "source": [
        "## Import Semua Packages/Library yang Digunakan"
      ]
    },
    {
      "cell_type": "code",
      "execution_count": 2,
      "metadata": {
        "id": "ri96e07LTulu"
      },
      "outputs": [],
      "source": [
        "\"\"\"Data Preparation Library\"\"\"\n",
        "import pandas as pd\n",
        "import matplotlib.pyplot as plt\n",
        "import seaborn as sns\n",
        "from sklearn.model_selection import train_test_split, KFold\n",
        "import numpy as np\n",
        "\n",
        "\"\"\"Models Library\"\"\"\n",
        "from sklearn.preprocessing import StandardScaler\n",
        "from sklearn.ensemble import RandomForestClassifier, RandomForestRegressor\n",
        "from sklearn.ensemble import GradientBoostingClassifier, GradientBoostingRegressor\n",
        "from sklearn.metrics import accuracy_score, classification_report, confusion_matrix, precision_score, recall_score, f1_score\n",
        "from sklearn.metrics import roc_curve, auc\n",
        "from sklearn.metrics import mean_squared_error\n",
        "from sklearn.svm import SVC, SVR\n",
        "from sklearn.linear_model import LogisticRegression\n",
        "from sklearn.neighbors import KNeighborsClassifier, KNeighborsRegressor\n",
        "\n",
        "\"\"\"Model Evaluation\"\"\"\n",
        "from sklearn.model_selection import cross_val_score\n",
        "\n",
        "\"\"\"Other\"\"\"\n",
        "import warnings\n",
        "from sklearn.utils._testing import ignore_warnings\n",
        "from sklearn.exceptions import ConvergenceWarning\n",
        "warnings.filterwarnings(\"ignore\", category=FutureWarning)\n",
        "warnings.filterwarnings(\"ignore\", category = ConvergenceWarning)"
      ]
    },
    {
      "cell_type": "markdown",
      "metadata": {
        "id": "GnH-U3OpSDiM"
      },
      "source": [
        "## Data Wrangling"
      ]
    },
    {
      "cell_type": "markdown",
      "metadata": {
        "id": "9rl0DjQTTtDZ"
      },
      "source": [
        "### Gathering Data"
      ]
    },
    {
      "cell_type": "code",
      "execution_count": 3,
      "metadata": {
        "colab": {
          "base_uri": "https://localhost:8080/",
          "height": 206
        },
        "id": "idbAi0gITwFT",
        "outputId": "9e85f206-79b5-4f43-d238-da4731f00417"
      },
      "outputs": [
        {
          "data": {
            "text/html": [
              "<div>\n",
              "<style scoped>\n",
              "    .dataframe tbody tr th:only-of-type {\n",
              "        vertical-align: middle;\n",
              "    }\n",
              "\n",
              "    .dataframe tbody tr th {\n",
              "        vertical-align: top;\n",
              "    }\n",
              "\n",
              "    .dataframe thead th {\n",
              "        text-align: right;\n",
              "    }\n",
              "</style>\n",
              "<table border=\"1\" class=\"dataframe\">\n",
              "  <thead>\n",
              "    <tr style=\"text-align: right;\">\n",
              "      <th></th>\n",
              "      <th>Jam</th>\n",
              "      <th>temperature</th>\n",
              "      <th>humidity</th>\n",
              "      <th>light</th>\n",
              "      <th>pH</th>\n",
              "      <th>EC</th>\n",
              "      <th>TDS</th>\n",
              "      <th>WaterTemp</th>\n",
              "      <th>Label</th>\n",
              "      <th>Pattern</th>\n",
              "    </tr>\n",
              "  </thead>\n",
              "  <tbody>\n",
              "    <tr>\n",
              "      <th>0</th>\n",
              "      <td>15.15</td>\n",
              "      <td>25.5</td>\n",
              "      <td>67</td>\n",
              "      <td>17660</td>\n",
              "      <td>6.4</td>\n",
              "      <td>855</td>\n",
              "      <td>427</td>\n",
              "      <td>29.7</td>\n",
              "      <td>Selada</td>\n",
              "      <td>1</td>\n",
              "    </tr>\n",
              "    <tr>\n",
              "      <th>1</th>\n",
              "      <td>17.22</td>\n",
              "      <td>26.9</td>\n",
              "      <td>80</td>\n",
              "      <td>86930</td>\n",
              "      <td>6.7</td>\n",
              "      <td>929</td>\n",
              "      <td>464</td>\n",
              "      <td>27.0</td>\n",
              "      <td>Selada</td>\n",
              "      <td>1</td>\n",
              "    </tr>\n",
              "    <tr>\n",
              "      <th>2</th>\n",
              "      <td>7.33</td>\n",
              "      <td>25.7</td>\n",
              "      <td>77</td>\n",
              "      <td>23320</td>\n",
              "      <td>6.1</td>\n",
              "      <td>900</td>\n",
              "      <td>449</td>\n",
              "      <td>25.4</td>\n",
              "      <td>Selada</td>\n",
              "      <td>1</td>\n",
              "    </tr>\n",
              "    <tr>\n",
              "      <th>3</th>\n",
              "      <td>9.18</td>\n",
              "      <td>26.6</td>\n",
              "      <td>69</td>\n",
              "      <td>32280</td>\n",
              "      <td>6.7</td>\n",
              "      <td>887</td>\n",
              "      <td>443</td>\n",
              "      <td>26.1</td>\n",
              "      <td>Selada</td>\n",
              "      <td>1</td>\n",
              "    </tr>\n",
              "    <tr>\n",
              "      <th>4</th>\n",
              "      <td>10.39</td>\n",
              "      <td>25.8</td>\n",
              "      <td>65</td>\n",
              "      <td>41750</td>\n",
              "      <td>6.6</td>\n",
              "      <td>967</td>\n",
              "      <td>482</td>\n",
              "      <td>25.7</td>\n",
              "      <td>Selada</td>\n",
              "      <td>1</td>\n",
              "    </tr>\n",
              "  </tbody>\n",
              "</table>\n",
              "</div>"
            ],
            "text/plain": [
              "     Jam  temperature  humidity  light   pH   EC  TDS  WaterTemp   Label  \\\n",
              "0  15.15         25.5        67  17660  6.4  855  427       29.7  Selada   \n",
              "1  17.22         26.9        80  86930  6.7  929  464       27.0  Selada   \n",
              "2   7.33         25.7        77  23320  6.1  900  449       25.4  Selada   \n",
              "3   9.18         26.6        69  32280  6.7  887  443       26.1  Selada   \n",
              "4  10.39         25.8        65  41750  6.6  967  482       25.7  Selada   \n",
              "\n",
              "   Pattern  \n",
              "0        1  \n",
              "1        1  \n",
              "2        1  \n",
              "3        1  \n",
              "4        1  "
            ]
          },
          "execution_count": 3,
          "metadata": {},
          "output_type": "execute_result"
        }
      ],
      "source": [
        "# Load Dataset\n",
        "url = \"https://raw.githubusercontent.com/Vinzzztty/playground-data-analyst/main/Machine%20Learning%20Terapan/2.%20Sentiment%20Analysis/dataset/dataset_selada.csv\"\n",
        "df = pd.read_csv(url)\n",
        "\n",
        "df.head(5)"
      ]
    },
    {
      "cell_type": "code",
      "execution_count": 4,
      "metadata": {
        "colab": {
          "base_uri": "https://localhost:8080/",
          "height": 206
        },
        "id": "LPUCz0Z5SAQn",
        "outputId": "ecff9e52-d305-46d7-d81b-2bf68d9f2e30"
      },
      "outputs": [
        {
          "data": {
            "text/html": [
              "<div>\n",
              "<style scoped>\n",
              "    .dataframe tbody tr th:only-of-type {\n",
              "        vertical-align: middle;\n",
              "    }\n",
              "\n",
              "    .dataframe tbody tr th {\n",
              "        vertical-align: top;\n",
              "    }\n",
              "\n",
              "    .dataframe thead th {\n",
              "        text-align: right;\n",
              "    }\n",
              "</style>\n",
              "<table border=\"1\" class=\"dataframe\">\n",
              "  <thead>\n",
              "    <tr style=\"text-align: right;\">\n",
              "      <th></th>\n",
              "      <th>Jam</th>\n",
              "      <th>temperature</th>\n",
              "      <th>humidity</th>\n",
              "      <th>light</th>\n",
              "      <th>pH</th>\n",
              "      <th>EC</th>\n",
              "      <th>TDS</th>\n",
              "      <th>WaterTemp</th>\n",
              "      <th>Label</th>\n",
              "      <th>Pattern</th>\n",
              "    </tr>\n",
              "  </thead>\n",
              "  <tbody>\n",
              "    <tr>\n",
              "      <th>726</th>\n",
              "      <td>9.36</td>\n",
              "      <td>26.6</td>\n",
              "      <td>75</td>\n",
              "      <td>104000</td>\n",
              "      <td>6.8</td>\n",
              "      <td>1886</td>\n",
              "      <td>943</td>\n",
              "      <td>24.3</td>\n",
              "      <td>Selada</td>\n",
              "      <td>1</td>\n",
              "    </tr>\n",
              "    <tr>\n",
              "      <th>619</th>\n",
              "      <td>15.23</td>\n",
              "      <td>34.1</td>\n",
              "      <td>93</td>\n",
              "      <td>3369</td>\n",
              "      <td>6.9</td>\n",
              "      <td>900</td>\n",
              "      <td>450</td>\n",
              "      <td>28.0</td>\n",
              "      <td>Selada</td>\n",
              "      <td>1</td>\n",
              "    </tr>\n",
              "    <tr>\n",
              "      <th>3131</th>\n",
              "      <td>10.33</td>\n",
              "      <td>27.3</td>\n",
              "      <td>91</td>\n",
              "      <td>80350</td>\n",
              "      <td>6.8</td>\n",
              "      <td>1129</td>\n",
              "      <td>564</td>\n",
              "      <td>28.1</td>\n",
              "      <td>Selada</td>\n",
              "      <td>2</td>\n",
              "    </tr>\n",
              "    <tr>\n",
              "      <th>3098</th>\n",
              "      <td>9.47</td>\n",
              "      <td>23.6</td>\n",
              "      <td>59</td>\n",
              "      <td>56850</td>\n",
              "      <td>6.5</td>\n",
              "      <td>1119</td>\n",
              "      <td>559</td>\n",
              "      <td>25.1</td>\n",
              "      <td>Selada</td>\n",
              "      <td>2</td>\n",
              "    </tr>\n",
              "    <tr>\n",
              "      <th>3698</th>\n",
              "      <td>13.48</td>\n",
              "      <td>27.5</td>\n",
              "      <td>67</td>\n",
              "      <td>76640</td>\n",
              "      <td>7.0</td>\n",
              "      <td>2304</td>\n",
              "      <td>1152</td>\n",
              "      <td>26.5</td>\n",
              "      <td>Selada</td>\n",
              "      <td>3</td>\n",
              "    </tr>\n",
              "  </tbody>\n",
              "</table>\n",
              "</div>"
            ],
            "text/plain": [
              "        Jam  temperature  humidity   light   pH    EC   TDS  WaterTemp  \\\n",
              "726    9.36         26.6        75  104000  6.8  1886   943       24.3   \n",
              "619   15.23         34.1        93    3369  6.9   900   450       28.0   \n",
              "3131  10.33         27.3        91   80350  6.8  1129   564       28.1   \n",
              "3098   9.47         23.6        59   56850  6.5  1119   559       25.1   \n",
              "3698  13.48         27.5        67   76640  7.0  2304  1152       26.5   \n",
              "\n",
              "       Label  Pattern  \n",
              "726   Selada        1  \n",
              "619   Selada        1  \n",
              "3131  Selada        2  \n",
              "3098  Selada        2  \n",
              "3698  Selada        3  "
            ]
          },
          "execution_count": 4,
          "metadata": {},
          "output_type": "execute_result"
        }
      ],
      "source": [
        "df.sample(5)"
      ]
    },
    {
      "cell_type": "code",
      "execution_count": 24,
      "metadata": {
        "colab": {
          "base_uri": "https://localhost:8080/",
          "height": 206
        },
        "id": "hYm2eEyOmrlE",
        "outputId": "0232fb2b-435b-4d99-c857-15573db740ef"
      },
      "outputs": [
        {
          "data": {
            "application/vnd.google.colaboratory.intrinsic+json": {
              "summary": "{\n  \"name\": \"df\",\n  \"rows\": 5,\n  \"fields\": [\n    {\n      \"column\": \"Jam\",\n      \"properties\": {\n        \"dtype\": \"number\",\n        \"std\": 1.5972163284915417,\n        \"min\": 11.09,\n        \"max\": 15.15,\n        \"num_unique_values\": 5,\n        \"samples\": [\n          12.11,\n          15.15,\n          13.16\n        ],\n        \"semantic_type\": \"\",\n        \"description\": \"\"\n      }\n    },\n    {\n      \"column\": \"temperature\",\n      \"properties\": {\n        \"dtype\": \"number\",\n        \"std\": 2.9668164756182676,\n        \"min\": 24.2,\n        \"max\": 31.2,\n        \"num_unique_values\": 5,\n        \"samples\": [\n          24.3,\n          27.8,\n          31.2\n        ],\n        \"semantic_type\": \"\",\n        \"description\": \"\"\n      }\n    },\n    {\n      \"column\": \"humidity\",\n      \"properties\": {\n        \"dtype\": \"number\",\n        \"std\": 16,\n        \"min\": 52,\n        \"max\": 99,\n        \"num_unique_values\": 5,\n        \"samples\": [\n          52,\n          83,\n          80\n        ],\n        \"semantic_type\": \"\",\n        \"description\": \"\"\n      }\n    },\n    {\n      \"column\": \"light\",\n      \"properties\": {\n        \"dtype\": \"number\",\n        \"std\": 43852,\n        \"min\": 2031,\n        \"max\": 111300,\n        \"num_unique_values\": 5,\n        \"samples\": [\n          17610,\n          21850,\n          2031\n        ],\n        \"semantic_type\": \"\",\n        \"description\": \"\"\n      }\n    },\n    {\n      \"column\": \"pH\",\n      \"properties\": {\n        \"dtype\": \"number\",\n        \"std\": 0.22803508501982775,\n        \"min\": 6.1,\n        \"max\": 6.7,\n        \"num_unique_values\": 4,\n        \"samples\": [\n          6.7,\n          6.6,\n          6.5\n        ],\n        \"semantic_type\": \"\",\n        \"description\": \"\"\n      }\n    },\n    {\n      \"column\": \"EC\",\n      \"properties\": {\n        \"dtype\": \"number\",\n        \"std\": 109,\n        \"min\": 2792,\n        \"max\": 3044,\n        \"num_unique_values\": 5,\n        \"samples\": [\n          2792,\n          3044,\n          2956\n        ],\n        \"semantic_type\": \"\",\n        \"description\": \"\"\n      }\n    },\n    {\n      \"column\": \"TDS\",\n      \"properties\": {\n        \"dtype\": \"number\",\n        \"std\": 54,\n        \"min\": 1396,\n        \"max\": 1522,\n        \"num_unique_values\": 5,\n        \"samples\": [\n          1396,\n          1522,\n          1478\n        ],\n        \"semantic_type\": \"\",\n        \"description\": \"\"\n      }\n    },\n    {\n      \"column\": \"WaterTemp\",\n      \"properties\": {\n        \"dtype\": \"number\",\n        \"std\": 2.1489532335534904,\n        \"min\": 22.9,\n        \"max\": 28.8,\n        \"num_unique_values\": 5,\n        \"samples\": [\n          25.2,\n          22.9,\n          24.8\n        ],\n        \"semantic_type\": \"\",\n        \"description\": \"\"\n      }\n    },\n    {\n      \"column\": \"Label\",\n      \"properties\": {\n        \"dtype\": \"category\",\n        \"num_unique_values\": 1,\n        \"samples\": [\n          \"Selada\"\n        ],\n        \"semantic_type\": \"\",\n        \"description\": \"\"\n      }\n    },\n    {\n      \"column\": \"Pattern\",\n      \"properties\": {\n        \"dtype\": \"number\",\n        \"std\": 0,\n        \"min\": 3,\n        \"max\": 3,\n        \"num_unique_values\": 1,\n        \"samples\": [\n          3\n        ],\n        \"semantic_type\": \"\",\n        \"description\": \"\"\n      }\n    }\n  ]\n}",
              "type": "dataframe"
            },
            "text/html": [
              "\n",
              "  <div id=\"df-d706026a-d2eb-49c2-a78d-64aa992d7bc7\" class=\"colab-df-container\">\n",
              "    <div>\n",
              "<style scoped>\n",
              "    .dataframe tbody tr th:only-of-type {\n",
              "        vertical-align: middle;\n",
              "    }\n",
              "\n",
              "    .dataframe tbody tr th {\n",
              "        vertical-align: top;\n",
              "    }\n",
              "\n",
              "    .dataframe thead th {\n",
              "        text-align: right;\n",
              "    }\n",
              "</style>\n",
              "<table border=\"1\" class=\"dataframe\">\n",
              "  <thead>\n",
              "    <tr style=\"text-align: right;\">\n",
              "      <th></th>\n",
              "      <th>Jam</th>\n",
              "      <th>temperature</th>\n",
              "      <th>humidity</th>\n",
              "      <th>light</th>\n",
              "      <th>pH</th>\n",
              "      <th>EC</th>\n",
              "      <th>TDS</th>\n",
              "      <th>WaterTemp</th>\n",
              "      <th>Label</th>\n",
              "      <th>Pattern</th>\n",
              "    </tr>\n",
              "  </thead>\n",
              "  <tbody>\n",
              "    <tr>\n",
              "      <th>5000</th>\n",
              "      <td>11.09</td>\n",
              "      <td>28.4</td>\n",
              "      <td>82</td>\n",
              "      <td>17310</td>\n",
              "      <td>6.5</td>\n",
              "      <td>2798</td>\n",
              "      <td>1399</td>\n",
              "      <td>28.8</td>\n",
              "      <td>Selada</td>\n",
              "      <td>3</td>\n",
              "    </tr>\n",
              "    <tr>\n",
              "      <th>5001</th>\n",
              "      <td>12.11</td>\n",
              "      <td>24.3</td>\n",
              "      <td>52</td>\n",
              "      <td>17610</td>\n",
              "      <td>6.7</td>\n",
              "      <td>2792</td>\n",
              "      <td>1396</td>\n",
              "      <td>25.2</td>\n",
              "      <td>Selada</td>\n",
              "      <td>3</td>\n",
              "    </tr>\n",
              "    <tr>\n",
              "      <th>5002</th>\n",
              "      <td>13.16</td>\n",
              "      <td>31.2</td>\n",
              "      <td>80</td>\n",
              "      <td>2031</td>\n",
              "      <td>6.5</td>\n",
              "      <td>2956</td>\n",
              "      <td>1478</td>\n",
              "      <td>24.8</td>\n",
              "      <td>Selada</td>\n",
              "      <td>3</td>\n",
              "    </tr>\n",
              "    <tr>\n",
              "      <th>5003</th>\n",
              "      <td>14.09</td>\n",
              "      <td>24.2</td>\n",
              "      <td>99</td>\n",
              "      <td>111300</td>\n",
              "      <td>6.1</td>\n",
              "      <td>2946</td>\n",
              "      <td>1473</td>\n",
              "      <td>26.0</td>\n",
              "      <td>Selada</td>\n",
              "      <td>3</td>\n",
              "    </tr>\n",
              "    <tr>\n",
              "      <th>5004</th>\n",
              "      <td>15.15</td>\n",
              "      <td>27.8</td>\n",
              "      <td>83</td>\n",
              "      <td>21850</td>\n",
              "      <td>6.6</td>\n",
              "      <td>3044</td>\n",
              "      <td>1522</td>\n",
              "      <td>22.9</td>\n",
              "      <td>Selada</td>\n",
              "      <td>3</td>\n",
              "    </tr>\n",
              "  </tbody>\n",
              "</table>\n",
              "</div>\n",
              "    <div class=\"colab-df-buttons\">\n",
              "\n",
              "  <div class=\"colab-df-container\">\n",
              "    <button class=\"colab-df-convert\" onclick=\"convertToInteractive('df-d706026a-d2eb-49c2-a78d-64aa992d7bc7')\"\n",
              "            title=\"Convert this dataframe to an interactive table.\"\n",
              "            style=\"display:none;\">\n",
              "\n",
              "  <svg xmlns=\"http://www.w3.org/2000/svg\" height=\"24px\" viewBox=\"0 -960 960 960\">\n",
              "    <path d=\"M120-120v-720h720v720H120Zm60-500h600v-160H180v160Zm220 220h160v-160H400v160Zm0 220h160v-160H400v160ZM180-400h160v-160H180v160Zm440 0h160v-160H620v160ZM180-180h160v-160H180v160Zm440 0h160v-160H620v160Z\"/>\n",
              "  </svg>\n",
              "    </button>\n",
              "\n",
              "  <style>\n",
              "    .colab-df-container {\n",
              "      display:flex;\n",
              "      gap: 12px;\n",
              "    }\n",
              "\n",
              "    .colab-df-convert {\n",
              "      background-color: #E8F0FE;\n",
              "      border: none;\n",
              "      border-radius: 50%;\n",
              "      cursor: pointer;\n",
              "      display: none;\n",
              "      fill: #1967D2;\n",
              "      height: 32px;\n",
              "      padding: 0 0 0 0;\n",
              "      width: 32px;\n",
              "    }\n",
              "\n",
              "    .colab-df-convert:hover {\n",
              "      background-color: #E2EBFA;\n",
              "      box-shadow: 0px 1px 2px rgba(60, 64, 67, 0.3), 0px 1px 3px 1px rgba(60, 64, 67, 0.15);\n",
              "      fill: #174EA6;\n",
              "    }\n",
              "\n",
              "    .colab-df-buttons div {\n",
              "      margin-bottom: 4px;\n",
              "    }\n",
              "\n",
              "    [theme=dark] .colab-df-convert {\n",
              "      background-color: #3B4455;\n",
              "      fill: #D2E3FC;\n",
              "    }\n",
              "\n",
              "    [theme=dark] .colab-df-convert:hover {\n",
              "      background-color: #434B5C;\n",
              "      box-shadow: 0px 1px 3px 1px rgba(0, 0, 0, 0.15);\n",
              "      filter: drop-shadow(0px 1px 2px rgba(0, 0, 0, 0.3));\n",
              "      fill: #FFFFFF;\n",
              "    }\n",
              "  </style>\n",
              "\n",
              "    <script>\n",
              "      const buttonEl =\n",
              "        document.querySelector('#df-d706026a-d2eb-49c2-a78d-64aa992d7bc7 button.colab-df-convert');\n",
              "      buttonEl.style.display =\n",
              "        google.colab.kernel.accessAllowed ? 'block' : 'none';\n",
              "\n",
              "      async function convertToInteractive(key) {\n",
              "        const element = document.querySelector('#df-d706026a-d2eb-49c2-a78d-64aa992d7bc7');\n",
              "        const dataTable =\n",
              "          await google.colab.kernel.invokeFunction('convertToInteractive',\n",
              "                                                    [key], {});\n",
              "        if (!dataTable) return;\n",
              "\n",
              "        const docLinkHtml = 'Like what you see? Visit the ' +\n",
              "          '<a target=\"_blank\" href=https://colab.research.google.com/notebooks/data_table.ipynb>data table notebook</a>'\n",
              "          + ' to learn more about interactive tables.';\n",
              "        element.innerHTML = '';\n",
              "        dataTable['output_type'] = 'display_data';\n",
              "        await google.colab.output.renderOutput(dataTable, element);\n",
              "        const docLink = document.createElement('div');\n",
              "        docLink.innerHTML = docLinkHtml;\n",
              "        element.appendChild(docLink);\n",
              "      }\n",
              "    </script>\n",
              "  </div>\n",
              "\n",
              "\n",
              "<div id=\"df-a44ed511-e4c1-4350-9fac-38e354891396\">\n",
              "  <button class=\"colab-df-quickchart\" onclick=\"quickchart('df-a44ed511-e4c1-4350-9fac-38e354891396')\"\n",
              "            title=\"Suggest charts\"\n",
              "            style=\"display:none;\">\n",
              "\n",
              "<svg xmlns=\"http://www.w3.org/2000/svg\" height=\"24px\"viewBox=\"0 0 24 24\"\n",
              "     width=\"24px\">\n",
              "    <g>\n",
              "        <path d=\"M19 3H5c-1.1 0-2 .9-2 2v14c0 1.1.9 2 2 2h14c1.1 0 2-.9 2-2V5c0-1.1-.9-2-2-2zM9 17H7v-7h2v7zm4 0h-2V7h2v10zm4 0h-2v-4h2v4z\"/>\n",
              "    </g>\n",
              "</svg>\n",
              "  </button>\n",
              "\n",
              "<style>\n",
              "  .colab-df-quickchart {\n",
              "      --bg-color: #E8F0FE;\n",
              "      --fill-color: #1967D2;\n",
              "      --hover-bg-color: #E2EBFA;\n",
              "      --hover-fill-color: #174EA6;\n",
              "      --disabled-fill-color: #AAA;\n",
              "      --disabled-bg-color: #DDD;\n",
              "  }\n",
              "\n",
              "  [theme=dark] .colab-df-quickchart {\n",
              "      --bg-color: #3B4455;\n",
              "      --fill-color: #D2E3FC;\n",
              "      --hover-bg-color: #434B5C;\n",
              "      --hover-fill-color: #FFFFFF;\n",
              "      --disabled-bg-color: #3B4455;\n",
              "      --disabled-fill-color: #666;\n",
              "  }\n",
              "\n",
              "  .colab-df-quickchart {\n",
              "    background-color: var(--bg-color);\n",
              "    border: none;\n",
              "    border-radius: 50%;\n",
              "    cursor: pointer;\n",
              "    display: none;\n",
              "    fill: var(--fill-color);\n",
              "    height: 32px;\n",
              "    padding: 0;\n",
              "    width: 32px;\n",
              "  }\n",
              "\n",
              "  .colab-df-quickchart:hover {\n",
              "    background-color: var(--hover-bg-color);\n",
              "    box-shadow: 0 1px 2px rgba(60, 64, 67, 0.3), 0 1px 3px 1px rgba(60, 64, 67, 0.15);\n",
              "    fill: var(--button-hover-fill-color);\n",
              "  }\n",
              "\n",
              "  .colab-df-quickchart-complete:disabled,\n",
              "  .colab-df-quickchart-complete:disabled:hover {\n",
              "    background-color: var(--disabled-bg-color);\n",
              "    fill: var(--disabled-fill-color);\n",
              "    box-shadow: none;\n",
              "  }\n",
              "\n",
              "  .colab-df-spinner {\n",
              "    border: 2px solid var(--fill-color);\n",
              "    border-color: transparent;\n",
              "    border-bottom-color: var(--fill-color);\n",
              "    animation:\n",
              "      spin 1s steps(1) infinite;\n",
              "  }\n",
              "\n",
              "  @keyframes spin {\n",
              "    0% {\n",
              "      border-color: transparent;\n",
              "      border-bottom-color: var(--fill-color);\n",
              "      border-left-color: var(--fill-color);\n",
              "    }\n",
              "    20% {\n",
              "      border-color: transparent;\n",
              "      border-left-color: var(--fill-color);\n",
              "      border-top-color: var(--fill-color);\n",
              "    }\n",
              "    30% {\n",
              "      border-color: transparent;\n",
              "      border-left-color: var(--fill-color);\n",
              "      border-top-color: var(--fill-color);\n",
              "      border-right-color: var(--fill-color);\n",
              "    }\n",
              "    40% {\n",
              "      border-color: transparent;\n",
              "      border-right-color: var(--fill-color);\n",
              "      border-top-color: var(--fill-color);\n",
              "    }\n",
              "    60% {\n",
              "      border-color: transparent;\n",
              "      border-right-color: var(--fill-color);\n",
              "    }\n",
              "    80% {\n",
              "      border-color: transparent;\n",
              "      border-right-color: var(--fill-color);\n",
              "      border-bottom-color: var(--fill-color);\n",
              "    }\n",
              "    90% {\n",
              "      border-color: transparent;\n",
              "      border-bottom-color: var(--fill-color);\n",
              "    }\n",
              "  }\n",
              "</style>\n",
              "\n",
              "  <script>\n",
              "    async function quickchart(key) {\n",
              "      const quickchartButtonEl =\n",
              "        document.querySelector('#' + key + ' button');\n",
              "      quickchartButtonEl.disabled = true;  // To prevent multiple clicks.\n",
              "      quickchartButtonEl.classList.add('colab-df-spinner');\n",
              "      try {\n",
              "        const charts = await google.colab.kernel.invokeFunction(\n",
              "            'suggestCharts', [key], {});\n",
              "      } catch (error) {\n",
              "        console.error('Error during call to suggestCharts:', error);\n",
              "      }\n",
              "      quickchartButtonEl.classList.remove('colab-df-spinner');\n",
              "      quickchartButtonEl.classList.add('colab-df-quickchart-complete');\n",
              "    }\n",
              "    (() => {\n",
              "      let quickchartButtonEl =\n",
              "        document.querySelector('#df-a44ed511-e4c1-4350-9fac-38e354891396 button');\n",
              "      quickchartButtonEl.style.display =\n",
              "        google.colab.kernel.accessAllowed ? 'block' : 'none';\n",
              "    })();\n",
              "  </script>\n",
              "</div>\n",
              "    </div>\n",
              "  </div>\n"
            ],
            "text/plain": [
              "        Jam  temperature  humidity   light   pH    EC   TDS  WaterTemp  \\\n",
              "5000  11.09         28.4        82   17310  6.5  2798  1399       28.8   \n",
              "5001  12.11         24.3        52   17610  6.7  2792  1396       25.2   \n",
              "5002  13.16         31.2        80    2031  6.5  2956  1478       24.8   \n",
              "5003  14.09         24.2        99  111300  6.1  2946  1473       26.0   \n",
              "5004  15.15         27.8        83   21850  6.6  3044  1522       22.9   \n",
              "\n",
              "       Label  Pattern  \n",
              "5000  Selada        3  \n",
              "5001  Selada        3  \n",
              "5002  Selada        3  \n",
              "5003  Selada        3  \n",
              "5004  Selada        3  "
            ]
          },
          "execution_count": 24,
          "metadata": {},
          "output_type": "execute_result"
        }
      ],
      "source": [
        "# Melihat baris dari terakhir pada dataframe\n",
        "\n",
        "df.tail()"
      ]
    },
    {
      "cell_type": "markdown",
      "metadata": {
        "id": "cToau4pJR9Ul"
      },
      "source": [
        "### Assessing Data"
      ]
    },
    {
      "cell_type": "markdown",
      "metadata": {},
      "source": [
        "#### Melihat semua kolom pada dataframe"
      ]
    },
    {
      "cell_type": "code",
      "execution_count": 5,
      "metadata": {
        "colab": {
          "base_uri": "https://localhost:8080/"
        },
        "id": "b51XtSz6m5U2",
        "outputId": "b4983d5c-010a-41f1-fb62-df3cc7905abf"
      },
      "outputs": [
        {
          "data": {
            "text/plain": [
              "Index(['Jam', 'temperature', 'humidity', 'light', 'pH', 'EC', 'TDS',\n",
              "       'WaterTemp', 'Label', 'Pattern'],\n",
              "      dtype='object')"
            ]
          },
          "execution_count": 5,
          "metadata": {},
          "output_type": "execute_result"
        }
      ],
      "source": [
        "# Show Column in dataframe\n",
        "df.columns"
      ]
    },
    {
      "cell_type": "markdown",
      "metadata": {},
      "source": [
        "#### Melihat tipe data dari dataframe"
      ]
    },
    {
      "cell_type": "code",
      "execution_count": 6,
      "metadata": {
        "colab": {
          "base_uri": "https://localhost:8080/"
        },
        "id": "iZF4MymWnAjL",
        "outputId": "4e22832f-63b1-46b7-f75a-a593e583c52f"
      },
      "outputs": [
        {
          "name": "stdout",
          "output_type": "stream",
          "text": [
            "<class 'pandas.core.frame.DataFrame'>\n",
            "RangeIndex: 5005 entries, 0 to 5004\n",
            "Data columns (total 10 columns):\n",
            " #   Column       Non-Null Count  Dtype  \n",
            "---  ------       --------------  -----  \n",
            " 0   Jam          5005 non-null   float64\n",
            " 1   temperature  5005 non-null   float64\n",
            " 2   humidity     5005 non-null   int64  \n",
            " 3   light        5005 non-null   int64  \n",
            " 4   pH           5005 non-null   float64\n",
            " 5   EC           5005 non-null   int64  \n",
            " 6   TDS          5005 non-null   int64  \n",
            " 7   WaterTemp    5005 non-null   float64\n",
            " 8   Label        5005 non-null   object \n",
            " 9   Pattern      5005 non-null   int64  \n",
            "dtypes: float64(4), int64(5), object(1)\n",
            "memory usage: 391.1+ KB\n"
          ]
        }
      ],
      "source": [
        "# Cek tipe data dari dataframe\n",
        "df.info()"
      ]
    },
    {
      "cell_type": "markdown",
      "metadata": {
        "id": "FWks4OzPnZOU"
      },
      "source": [
        "Dari output terlihat bahwa:\n",
        "- Terdapat 1 kolom tipe object yaitu Label\n",
        "- Terdapat 4 kolom numerik dengan tipe data float64 yaitu: Jam, temperature, pH, WaterTemp\n",
        "- Terdapat 5 kolom numerik edngan tipe data int64 yaitu: humidity, light, EC, TDS, Pattern"
      ]
    },
    {
      "cell_type": "code",
      "execution_count": 7,
      "metadata": {
        "colab": {
          "base_uri": "https://localhost:8080/",
          "height": 300
        },
        "id": "HNhCdAZ5n5gj",
        "outputId": "c0f68f6e-1801-4349-9e31-c496219e2b68"
      },
      "outputs": [
        {
          "data": {
            "text/html": [
              "<div>\n",
              "<style scoped>\n",
              "    .dataframe tbody tr th:only-of-type {\n",
              "        vertical-align: middle;\n",
              "    }\n",
              "\n",
              "    .dataframe tbody tr th {\n",
              "        vertical-align: top;\n",
              "    }\n",
              "\n",
              "    .dataframe thead th {\n",
              "        text-align: right;\n",
              "    }\n",
              "</style>\n",
              "<table border=\"1\" class=\"dataframe\">\n",
              "  <thead>\n",
              "    <tr style=\"text-align: right;\">\n",
              "      <th></th>\n",
              "      <th>Jam</th>\n",
              "      <th>temperature</th>\n",
              "      <th>humidity</th>\n",
              "      <th>light</th>\n",
              "      <th>pH</th>\n",
              "      <th>EC</th>\n",
              "      <th>TDS</th>\n",
              "      <th>WaterTemp</th>\n",
              "      <th>Pattern</th>\n",
              "    </tr>\n",
              "  </thead>\n",
              "  <tbody>\n",
              "    <tr>\n",
              "      <th>count</th>\n",
              "      <td>5005.000000</td>\n",
              "      <td>5005.000000</td>\n",
              "      <td>5005.000000</td>\n",
              "      <td>5005.000000</td>\n",
              "      <td>5005.000000</td>\n",
              "      <td>5005.000000</td>\n",
              "      <td>5005.000000</td>\n",
              "      <td>5005.000000</td>\n",
              "      <td>5005.000000</td>\n",
              "    </tr>\n",
              "    <tr>\n",
              "      <th>mean</th>\n",
              "      <td>12.351025</td>\n",
              "      <td>28.935584</td>\n",
              "      <td>76.700699</td>\n",
              "      <td>34558.569431</td>\n",
              "      <td>6.520300</td>\n",
              "      <td>1675.379421</td>\n",
              "      <td>837.839560</td>\n",
              "      <td>26.296803</td>\n",
              "      <td>2.008791</td>\n",
              "    </tr>\n",
              "    <tr>\n",
              "      <th>std</th>\n",
              "      <td>38.150216</td>\n",
              "      <td>75.274318</td>\n",
              "      <td>22.948338</td>\n",
              "      <td>49156.295229</td>\n",
              "      <td>0.262504</td>\n",
              "      <td>728.307725</td>\n",
              "      <td>364.706067</td>\n",
              "      <td>2.368517</td>\n",
              "      <td>0.832927</td>\n",
              "    </tr>\n",
              "    <tr>\n",
              "      <th>min</th>\n",
              "      <td>7.180000</td>\n",
              "      <td>21.800000</td>\n",
              "      <td>0.000000</td>\n",
              "      <td>560.000000</td>\n",
              "      <td>5.700000</td>\n",
              "      <td>336.000000</td>\n",
              "      <td>161.000000</td>\n",
              "      <td>3.600000</td>\n",
              "      <td>1.000000</td>\n",
              "    </tr>\n",
              "    <tr>\n",
              "      <th>25%</th>\n",
              "      <td>9.320000</td>\n",
              "      <td>24.800000</td>\n",
              "      <td>62.000000</td>\n",
              "      <td>8300.000000</td>\n",
              "      <td>6.400000</td>\n",
              "      <td>1143.000000</td>\n",
              "      <td>571.000000</td>\n",
              "      <td>24.500000</td>\n",
              "      <td>1.000000</td>\n",
              "    </tr>\n",
              "    <tr>\n",
              "      <th>50%</th>\n",
              "      <td>11.320000</td>\n",
              "      <td>26.300000</td>\n",
              "      <td>83.000000</td>\n",
              "      <td>18840.000000</td>\n",
              "      <td>6.500000</td>\n",
              "      <td>1587.000000</td>\n",
              "      <td>793.000000</td>\n",
              "      <td>26.100000</td>\n",
              "      <td>2.000000</td>\n",
              "    </tr>\n",
              "    <tr>\n",
              "      <th>75%</th>\n",
              "      <td>13.420000</td>\n",
              "      <td>28.000000</td>\n",
              "      <td>99.000000</td>\n",
              "      <td>39420.000000</td>\n",
              "      <td>6.700000</td>\n",
              "      <td>2248.000000</td>\n",
              "      <td>1124.000000</td>\n",
              "      <td>27.500000</td>\n",
              "      <td>3.000000</td>\n",
              "    </tr>\n",
              "    <tr>\n",
              "      <th>max</th>\n",
              "      <td>1358.000000</td>\n",
              "      <td>2619.000000</td>\n",
              "      <td>99.000000</td>\n",
              "      <td>702000.000000</td>\n",
              "      <td>7.100000</td>\n",
              "      <td>3178.000000</td>\n",
              "      <td>1934.000000</td>\n",
              "      <td>34.200000</td>\n",
              "      <td>3.000000</td>\n",
              "    </tr>\n",
              "  </tbody>\n",
              "</table>\n",
              "</div>"
            ],
            "text/plain": [
              "               Jam  temperature     humidity          light           pH  \\\n",
              "count  5005.000000  5005.000000  5005.000000    5005.000000  5005.000000   \n",
              "mean     12.351025    28.935584    76.700699   34558.569431     6.520300   \n",
              "std      38.150216    75.274318    22.948338   49156.295229     0.262504   \n",
              "min       7.180000    21.800000     0.000000     560.000000     5.700000   \n",
              "25%       9.320000    24.800000    62.000000    8300.000000     6.400000   \n",
              "50%      11.320000    26.300000    83.000000   18840.000000     6.500000   \n",
              "75%      13.420000    28.000000    99.000000   39420.000000     6.700000   \n",
              "max    1358.000000  2619.000000    99.000000  702000.000000     7.100000   \n",
              "\n",
              "                EC          TDS    WaterTemp      Pattern  \n",
              "count  5005.000000  5005.000000  5005.000000  5005.000000  \n",
              "mean   1675.379421   837.839560    26.296803     2.008791  \n",
              "std     728.307725   364.706067     2.368517     0.832927  \n",
              "min     336.000000   161.000000     3.600000     1.000000  \n",
              "25%    1143.000000   571.000000    24.500000     1.000000  \n",
              "50%    1587.000000   793.000000    26.100000     2.000000  \n",
              "75%    2248.000000  1124.000000    27.500000     3.000000  \n",
              "max    3178.000000  1934.000000    34.200000     3.000000  "
            ]
          },
          "execution_count": 7,
          "metadata": {},
          "output_type": "execute_result"
        }
      ],
      "source": [
        "# Cek nilai numerik\n",
        "df.describe()"
      ]
    },
    {
      "cell_type": "markdown",
      "metadata": {
        "id": "znRQB98eDdSV"
      },
      "source": [
        "#### Cek Missing Value dan data kosong"
      ]
    },
    {
      "cell_type": "code",
      "execution_count": 8,
      "metadata": {
        "colab": {
          "base_uri": "https://localhost:8080/"
        },
        "id": "zTD1b6IvDfGT",
        "outputId": "8f1464fb-baba-4a6f-a6b7-5292b5b391a9"
      },
      "outputs": [
        {
          "data": {
            "text/plain": [
              "Jam            0\n",
              "temperature    0\n",
              "humidity       0\n",
              "light          0\n",
              "pH             0\n",
              "EC             0\n",
              "TDS            0\n",
              "WaterTemp      0\n",
              "Label          0\n",
              "Pattern        0\n",
              "dtype: int64"
            ]
          },
          "execution_count": 8,
          "metadata": {},
          "output_type": "execute_result"
        }
      ],
      "source": [
        "# Check null data\n",
        "df.isnull().sum()"
      ]
    },
    {
      "cell_type": "code",
      "execution_count": 192,
      "metadata": {
        "colab": {
          "base_uri": "https://localhost:8080/"
        },
        "id": "lF025CL1EVw8",
        "outputId": "c8a93248-dc5e-46dc-deae-27efe97eae83"
      },
      "outputs": [
        {
          "data": {
            "text/plain": [
              "Jam            0\n",
              "temperature    0\n",
              "humidity       0\n",
              "light          0\n",
              "pH             0\n",
              "EC             0\n",
              "TDS            0\n",
              "WaterTemp      0\n",
              "Label          0\n",
              "Pattern        0\n",
              "dtype: int64"
            ]
          },
          "execution_count": 192,
          "metadata": {},
          "output_type": "execute_result"
        }
      ],
      "source": [
        "# Check NaN data\n",
        "df.isna().sum()"
      ]
    },
    {
      "cell_type": "markdown",
      "metadata": {
        "id": "fE_UMEF0DBC3"
      },
      "source": [
        "#### Assessing Specific Column seperti kolom Label, Pattern, dan Temperature"
      ]
    },
    {
      "cell_type": "code",
      "execution_count": 10,
      "metadata": {
        "colab": {
          "base_uri": "https://localhost:8080/"
        },
        "id": "jU22fqk7nNVQ",
        "outputId": "f7ace210-a6dd-4733-e0de-6f3d1f280ecd"
      },
      "outputs": [
        {
          "data": {
            "text/plain": [
              "Label\n",
              "Selada    5005\n",
              "Name: count, dtype: int64"
            ]
          },
          "execution_count": 10,
          "metadata": {},
          "output_type": "execute_result"
        }
      ],
      "source": [
        "# Cek nilai unik pada kolom Label\n",
        "df['Label'].value_counts()"
      ]
    },
    {
      "cell_type": "code",
      "execution_count": 11,
      "metadata": {
        "colab": {
          "base_uri": "https://localhost:8080/"
        },
        "id": "CtBYxWWcqBxW",
        "outputId": "0b28e01a-cbcb-4d43-fe24-78537708edf2"
      },
      "outputs": [
        {
          "data": {
            "text/plain": [
              "Pattern\n",
              "3    1758\n",
              "1    1714\n",
              "2    1533\n",
              "Name: count, dtype: int64"
            ]
          },
          "execution_count": 11,
          "metadata": {},
          "output_type": "execute_result"
        }
      ],
      "source": [
        "# Melihat nilai unik pada kolom Pattern\n",
        "df['Pattern'].value_counts()"
      ]
    },
    {
      "cell_type": "markdown",
      "metadata": {},
      "source": [
        "##### Melihat nilai pada kolom temperature yang lebih besar dari 100"
      ]
    },
    {
      "cell_type": "code",
      "execution_count": 193,
      "metadata": {
        "colab": {
          "base_uri": "https://localhost:8080/"
        },
        "id": "hp2JRbeEDlK5",
        "outputId": "d64b02c3-60af-4e7a-ea80-b2e663dec674"
      },
      "outputs": [
        {
          "name": "stdout",
          "output_type": "stream",
          "text": [
            "Nilai kolom 'temperature' yang lebih besar dari 100:\n",
            "1873    2619.0\n",
            "2143    2619.0\n",
            "2349    1239.0\n",
            "2419    2619.0\n",
            "3209    2619.0\n",
            "Name: temperature, dtype: float64\n"
          ]
        }
      ],
      "source": [
        "# Filter baris dengan nilai 'temperature' lebih besar dari 100\n",
        "high_temperature_rows = df[df['temperature'] > 100]\n",
        "\n",
        "# Tampilkan nilai pada kolom 'temperature' dari baris yang telah difilter\n",
        "high_temperature_values = high_temperature_rows['temperature']\n",
        "print(\"Nilai kolom 'temperature' yang lebih besar dari 100:\")\n",
        "print(high_temperature_values)"
      ]
    },
    {
      "cell_type": "markdown",
      "metadata": {
        "id": "kBNHa7__EENN"
      },
      "source": [
        "## Exploratory Data Analysis (EDA)"
      ]
    },
    {
      "cell_type": "markdown",
      "metadata": {
        "id": "rIgkM6r7JtsL"
      },
      "source": [
        "### Melihat Banyak Nilai pada Kolom Pattern"
      ]
    },
    {
      "cell_type": "code",
      "execution_count": 198,
      "metadata": {},
      "outputs": [
        {
          "name": "stdout",
          "output_type": "stream",
          "text": [
            "Pattern\n",
            "3    1758\n",
            "1    1714\n",
            "2    1533\n",
            "Name: count, dtype: int64\n"
          ]
        }
      ],
      "source": [
        "# Hitung jumlah setiap nilai dalam kolom 'Pattern'\n",
        "pattern_counts = df['Pattern'].value_counts()\n",
        "\n",
        "print(pattern_counts)"
      ]
    },
    {
      "cell_type": "markdown",
      "metadata": {
        "id": "h3pxVsWoKCsB"
      },
      "source": [
        "### Mencari Korelasi Kolom"
      ]
    },
    {
      "cell_type": "code",
      "execution_count": 197,
      "metadata": {
        "colab": {
          "base_uri": "https://localhost:8080/",
          "height": 300
        },
        "id": "NEu0TSqdKFTB",
        "outputId": "fc313de7-f5c8-4e0c-f708-107ecc42c2c7"
      },
      "outputs": [
        {
          "data": {
            "text/html": [
              "<div>\n",
              "<style scoped>\n",
              "    .dataframe tbody tr th:only-of-type {\n",
              "        vertical-align: middle;\n",
              "    }\n",
              "\n",
              "    .dataframe tbody tr th {\n",
              "        vertical-align: top;\n",
              "    }\n",
              "\n",
              "    .dataframe thead th {\n",
              "        text-align: right;\n",
              "    }\n",
              "</style>\n",
              "<table border=\"1\" class=\"dataframe\">\n",
              "  <thead>\n",
              "    <tr style=\"text-align: right;\">\n",
              "      <th></th>\n",
              "      <th>temperature</th>\n",
              "      <th>humidity</th>\n",
              "      <th>light</th>\n",
              "      <th>pH</th>\n",
              "      <th>EC</th>\n",
              "      <th>TDS</th>\n",
              "      <th>WaterTemp</th>\n",
              "      <th>Pattern</th>\n",
              "    </tr>\n",
              "  </thead>\n",
              "  <tbody>\n",
              "    <tr>\n",
              "      <th>temperature</th>\n",
              "      <td>1.000000</td>\n",
              "      <td>-0.105658</td>\n",
              "      <td>0.059090</td>\n",
              "      <td>-0.003839</td>\n",
              "      <td>-0.006678</td>\n",
              "      <td>-0.006485</td>\n",
              "      <td>0.162393</td>\n",
              "      <td>0.000317</td>\n",
              "    </tr>\n",
              "    <tr>\n",
              "      <th>humidity</th>\n",
              "      <td>-0.105658</td>\n",
              "      <td>1.000000</td>\n",
              "      <td>-0.070975</td>\n",
              "      <td>0.016518</td>\n",
              "      <td>0.045092</td>\n",
              "      <td>0.044673</td>\n",
              "      <td>-0.101836</td>\n",
              "      <td>-0.049649</td>\n",
              "    </tr>\n",
              "    <tr>\n",
              "      <th>light</th>\n",
              "      <td>0.059090</td>\n",
              "      <td>-0.070975</td>\n",
              "      <td>1.000000</td>\n",
              "      <td>-0.027438</td>\n",
              "      <td>0.013735</td>\n",
              "      <td>0.012359</td>\n",
              "      <td>0.083195</td>\n",
              "      <td>0.004200</td>\n",
              "    </tr>\n",
              "    <tr>\n",
              "      <th>pH</th>\n",
              "      <td>-0.003839</td>\n",
              "      <td>0.016518</td>\n",
              "      <td>-0.027438</td>\n",
              "      <td>1.000000</td>\n",
              "      <td>-0.063254</td>\n",
              "      <td>-0.065248</td>\n",
              "      <td>-0.023790</td>\n",
              "      <td>-0.065984</td>\n",
              "    </tr>\n",
              "    <tr>\n",
              "      <th>EC</th>\n",
              "      <td>-0.006678</td>\n",
              "      <td>0.045092</td>\n",
              "      <td>0.013735</td>\n",
              "      <td>-0.063254</td>\n",
              "      <td>1.000000</td>\n",
              "      <td>0.995993</td>\n",
              "      <td>-0.023934</td>\n",
              "      <td>0.571283</td>\n",
              "    </tr>\n",
              "    <tr>\n",
              "      <th>TDS</th>\n",
              "      <td>-0.006485</td>\n",
              "      <td>0.044673</td>\n",
              "      <td>0.012359</td>\n",
              "      <td>-0.065248</td>\n",
              "      <td>0.995993</td>\n",
              "      <td>1.000000</td>\n",
              "      <td>-0.021312</td>\n",
              "      <td>0.569847</td>\n",
              "    </tr>\n",
              "    <tr>\n",
              "      <th>WaterTemp</th>\n",
              "      <td>0.162393</td>\n",
              "      <td>-0.101836</td>\n",
              "      <td>0.083195</td>\n",
              "      <td>-0.023790</td>\n",
              "      <td>-0.023934</td>\n",
              "      <td>-0.021312</td>\n",
              "      <td>1.000000</td>\n",
              "      <td>0.003337</td>\n",
              "    </tr>\n",
              "    <tr>\n",
              "      <th>Pattern</th>\n",
              "      <td>0.000317</td>\n",
              "      <td>-0.049649</td>\n",
              "      <td>0.004200</td>\n",
              "      <td>-0.065984</td>\n",
              "      <td>0.571283</td>\n",
              "      <td>0.569847</td>\n",
              "      <td>0.003337</td>\n",
              "      <td>1.000000</td>\n",
              "    </tr>\n",
              "  </tbody>\n",
              "</table>\n",
              "</div>"
            ],
            "text/plain": [
              "             temperature  humidity     light        pH        EC       TDS  \\\n",
              "temperature     1.000000 -0.105658  0.059090 -0.003839 -0.006678 -0.006485   \n",
              "humidity       -0.105658  1.000000 -0.070975  0.016518  0.045092  0.044673   \n",
              "light           0.059090 -0.070975  1.000000 -0.027438  0.013735  0.012359   \n",
              "pH             -0.003839  0.016518 -0.027438  1.000000 -0.063254 -0.065248   \n",
              "EC             -0.006678  0.045092  0.013735 -0.063254  1.000000  0.995993   \n",
              "TDS            -0.006485  0.044673  0.012359 -0.065248  0.995993  1.000000   \n",
              "WaterTemp       0.162393 -0.101836  0.083195 -0.023790 -0.023934 -0.021312   \n",
              "Pattern         0.000317 -0.049649  0.004200 -0.065984  0.571283  0.569847   \n",
              "\n",
              "             WaterTemp   Pattern  \n",
              "temperature   0.162393  0.000317  \n",
              "humidity     -0.101836 -0.049649  \n",
              "light         0.083195  0.004200  \n",
              "pH           -0.023790 -0.065984  \n",
              "EC           -0.023934  0.571283  \n",
              "TDS          -0.021312  0.569847  \n",
              "WaterTemp     1.000000  0.003337  \n",
              "Pattern       0.003337  1.000000  "
            ]
          },
          "execution_count": 197,
          "metadata": {},
          "output_type": "execute_result"
        }
      ],
      "source": [
        "# Membuat Matrix Korelasi\n",
        "cor_matrix = df[['temperature', 'humidity', 'light', 'pH', 'EC', 'TDS','WaterTemp','Pattern']].corr()\n",
        "cor_matrix"
      ]
    },
    {
      "cell_type": "code",
      "execution_count": null,
      "metadata": {
        "colab": {
          "base_uri": "https://localhost:8080/",
          "height": 488
        },
        "id": "O-afHQY4KJ-b",
        "outputId": "ef0dce1e-9136-4266-d471-62808c485e0e"
      },
      "outputs": [
        {
          "data": {
            "image/png": "[encoded data removed]",
            "text/plain": [
              "<Figure size 1500x500 with 2 Axes>"
            ]
          },
          "metadata": {},
          "output_type": "display_data"
        }
      ],
      "source": [
        "# Heatmap of the correlation matrix\n",
        "plt.figure(figsize=(15, 5))\n",
        "sns.heatmap(cor_matrix, annot=True, cmap='YlGnBu', fmt=\".2f\", linewidths=0.5)\n",
        "plt.title(\"Correlation Matrix\")\n",
        "plt.show()"
      ]
    },
    {
      "cell_type": "markdown",
      "metadata": {
        "id": "3uAwHZANKjH3"
      },
      "source": [
        "EC dan TDS memiliki korelasi yang sangat baik yaitu Positif 1"
      ]
    },
    {
      "cell_type": "markdown",
      "metadata": {
        "id": "tlCKqqo3Z6H3"
      },
      "source": [
        "## Data Preparation"
      ]
    },
    {
      "cell_type": "markdown",
      "metadata": {
        "id": "uQ81IXumZxQ2"
      },
      "source": [
        "### Cleaning Data"
      ]
    },
    {
      "cell_type": "markdown",
      "metadata": {},
      "source": [
        "#### Menangani Kesalahan Penulisan Nilai pada Kolom temperature"
      ]
    },
    {
      "cell_type": "code",
      "execution_count": null,
      "metadata": {},
      "outputs": [],
      "source": [
        "# Jika ada baris dengan nilai 'temperature' lebih dari 100.00, lakukan perbaikan\n",
        "if not high_temperature_rows.empty:\n",
        "    # Perbaiki nilai 'temperature' dengan membaginya dengan 100\n",
        "    df.loc[df['temperature'] > 100.00, 'temperature'] /= 100.0"
      ]
    },
    {
      "cell_type": "code",
      "execution_count": null,
      "metadata": {},
      "outputs": [
        {
          "data": {
            "application/vnd.google.colaboratory.intrinsic+json": {
              "summary": "{\n  \"name\": \"df\",\n  \"rows\": 8,\n  \"fields\": [\n    {\n      \"column\": \"Jam\",\n      \"properties\": {\n        \"dtype\": \"number\",\n        \"std\": 1760.206281729015,\n        \"min\": 7.18,\n        \"max\": 5005.0,\n        \"num_unique_values\": 8,\n        \"samples\": [\n          12.351024975024975,\n          11.32,\n          5005.0\n        ],\n        \"semantic_type\": \"\",\n        \"description\": \"\"\n      }\n    },\n    {\n      \"column\": \"temperature\",\n      \"properties\": {\n        \"dtype\": \"number\",\n        \"std\": 1761.5708168779468,\n        \"min\": 2.416377414651545,\n        \"max\": 5005.0,\n        \"num_unique_values\": 8,\n        \"samples\": [\n          26.618331668331667,\n          26.3,\n          5005.0\n        ],\n        \"semantic_type\": \"\",\n        \"description\": \"\"\n      }\n    },\n    {\n      \"column\": \"humidity\",\n      \"properties\": {\n        \"dtype\": \"number\",\n        \"std\": 1747.5353917919517,\n        \"min\": 0.0,\n        \"max\": 5005.0,\n        \"num_unique_values\": 7,\n        \"samples\": [\n          5005.0,\n          76.7006993006993,\n          83.0\n        ],\n        \"semantic_type\": \"\",\n        \"description\": \"\"\n      }\n    },\n    {\n      \"column\": \"light\",\n      \"properties\": {\n        \"dtype\": \"number\",\n        \"std\": 240959.87144627506,\n        \"min\": 560.0,\n        \"max\": 702000.0,\n        \"num_unique_values\": 8,\n        \"samples\": [\n          34558.569430569434,\n          18840.0,\n          5005.0\n        ],\n        \"semantic_type\": \"\",\n        \"description\": \"\"\n      }\n    },\n    {\n      \"column\": \"pH\",\n      \"properties\": {\n        \"dtype\": \"number\",\n        \"std\": 1767.5570737802093,\n        \"min\": 0.262504063555602,\n        \"max\": 5005.0,\n        \"num_unique_values\": 8,\n        \"samples\": [\n          6.5202997002997,\n          6.5,\n          5005.0\n        ],\n        \"semantic_type\": \"\",\n        \"description\": \"\"\n      }\n    },\n    {\n      \"column\": \"EC\",\n      \"properties\": {\n        \"dtype\": \"number\",\n        \"std\": 1505.9156626761794,\n        \"min\": 336.0,\n        \"max\": 5005.0,\n        \"num_unique_values\": 8,\n        \"samples\": [\n          1675.3794205794206,\n          1587.0,\n          5005.0\n        ],\n        \"semantic_type\": \"\",\n        \"description\": \"\"\n      }\n    },\n    {\n      \"column\": \"TDS\",\n      \"properties\": {\n        \"dtype\": \"number\",\n        \"std\": 1572.762323169206,\n        \"min\": 161.0,\n        \"max\": 5005.0,\n        \"num_unique_values\": 8,\n        \"samples\": [\n          837.8395604395604,\n          793.0,\n          5005.0\n        ],\n        \"semantic_type\": \"\",\n        \"description\": \"\"\n      }\n    },\n    {\n      \"column\": \"WaterTemp\",\n      \"properties\": {\n        \"dtype\": \"number\",\n        \"std\": 1762.270838924426,\n        \"min\": 2.3685172304910225,\n        \"max\": 5005.0,\n        \"num_unique_values\": 8,\n        \"samples\": [\n          26.296803196803197,\n          26.1,\n          5005.0\n        ],\n        \"semantic_type\": \"\",\n        \"description\": \"\"\n      }\n    },\n    {\n      \"column\": \"Pattern\",\n      \"properties\": {\n        \"dtype\": \"number\",\n        \"std\": 1768.8863239825507,\n        \"min\": 0.8329271416300624,\n        \"max\": 5005.0,\n        \"num_unique_values\": 6,\n        \"samples\": [\n          5005.0,\n          2.0087912087912088,\n          3.0\n        ],\n        \"semantic_type\": \"\",\n        \"description\": \"\"\n      }\n    }\n  ]\n}",
              "type": "dataframe"
            },
            "text/html": [
              "\n",
              "  <div id=\"df-26ea8ec3-8f72-47a9-afb2-1c2bd9cc3889\" class=\"colab-df-container\">\n",
              "    <div>\n",
              "<style scoped>\n",
              "    .dataframe tbody tr th:only-of-type {\n",
              "        vertical-align: middle;\n",
              "    }\n",
              "\n",
              "    .dataframe tbody tr th {\n",
              "        vertical-align: top;\n",
              "    }\n",
              "\n",
              "    .dataframe thead th {\n",
              "        text-align: right;\n",
              "    }\n",
              "</style>\n",
              "<table border=\"1\" class=\"dataframe\">\n",
              "  <thead>\n",
              "    <tr style=\"text-align: right;\">\n",
              "      <th></th>\n",
              "      <th>Jam</th>\n",
              "      <th>temperature</th>\n",
              "      <th>humidity</th>\n",
              "      <th>light</th>\n",
              "      <th>pH</th>\n",
              "      <th>EC</th>\n",
              "      <th>TDS</th>\n",
              "      <th>WaterTemp</th>\n",
              "      <th>Pattern</th>\n",
              "    </tr>\n",
              "  </thead>\n",
              "  <tbody>\n",
              "    <tr>\n",
              "      <th>count</th>\n",
              "      <td>5005.000000</td>\n",
              "      <td>5005.000000</td>\n",
              "      <td>5005.000000</td>\n",
              "      <td>5005.000000</td>\n",
              "      <td>5005.000000</td>\n",
              "      <td>5005.000000</td>\n",
              "      <td>5005.000000</td>\n",
              "      <td>5005.000000</td>\n",
              "      <td>5005.000000</td>\n",
              "    </tr>\n",
              "    <tr>\n",
              "      <th>mean</th>\n",
              "      <td>12.351025</td>\n",
              "      <td>26.618332</td>\n",
              "      <td>76.700699</td>\n",
              "      <td>34558.569431</td>\n",
              "      <td>6.520300</td>\n",
              "      <td>1675.379421</td>\n",
              "      <td>837.839560</td>\n",
              "      <td>26.296803</td>\n",
              "      <td>2.008791</td>\n",
              "    </tr>\n",
              "    <tr>\n",
              "      <th>std</th>\n",
              "      <td>38.150216</td>\n",
              "      <td>2.416377</td>\n",
              "      <td>22.948338</td>\n",
              "      <td>49156.295229</td>\n",
              "      <td>0.262504</td>\n",
              "      <td>728.307725</td>\n",
              "      <td>364.706067</td>\n",
              "      <td>2.368517</td>\n",
              "      <td>0.832927</td>\n",
              "    </tr>\n",
              "    <tr>\n",
              "      <th>min</th>\n",
              "      <td>7.180000</td>\n",
              "      <td>12.390000</td>\n",
              "      <td>0.000000</td>\n",
              "      <td>560.000000</td>\n",
              "      <td>5.700000</td>\n",
              "      <td>336.000000</td>\n",
              "      <td>161.000000</td>\n",
              "      <td>3.600000</td>\n",
              "      <td>1.000000</td>\n",
              "    </tr>\n",
              "    <tr>\n",
              "      <th>25%</th>\n",
              "      <td>9.320000</td>\n",
              "      <td>24.800000</td>\n",
              "      <td>62.000000</td>\n",
              "      <td>8300.000000</td>\n",
              "      <td>6.400000</td>\n",
              "      <td>1143.000000</td>\n",
              "      <td>571.000000</td>\n",
              "      <td>24.500000</td>\n",
              "      <td>1.000000</td>\n",
              "    </tr>\n",
              "    <tr>\n",
              "      <th>50%</th>\n",
              "      <td>11.320000</td>\n",
              "      <td>26.300000</td>\n",
              "      <td>83.000000</td>\n",
              "      <td>18840.000000</td>\n",
              "      <td>6.500000</td>\n",
              "      <td>1587.000000</td>\n",
              "      <td>793.000000</td>\n",
              "      <td>26.100000</td>\n",
              "      <td>2.000000</td>\n",
              "    </tr>\n",
              "    <tr>\n",
              "      <th>75%</th>\n",
              "      <td>13.420000</td>\n",
              "      <td>28.000000</td>\n",
              "      <td>99.000000</td>\n",
              "      <td>39420.000000</td>\n",
              "      <td>6.700000</td>\n",
              "      <td>2248.000000</td>\n",
              "      <td>1124.000000</td>\n",
              "      <td>27.500000</td>\n",
              "      <td>3.000000</td>\n",
              "    </tr>\n",
              "    <tr>\n",
              "      <th>max</th>\n",
              "      <td>1358.000000</td>\n",
              "      <td>37.800000</td>\n",
              "      <td>99.000000</td>\n",
              "      <td>702000.000000</td>\n",
              "      <td>7.100000</td>\n",
              "      <td>3178.000000</td>\n",
              "      <td>1934.000000</td>\n",
              "      <td>34.200000</td>\n",
              "      <td>3.000000</td>\n",
              "    </tr>\n",
              "  </tbody>\n",
              "</table>\n",
              "</div>\n",
              "    <div class=\"colab-df-buttons\">\n",
              "\n",
              "  <div class=\"colab-df-container\">\n",
              "    <button class=\"colab-df-convert\" onclick=\"convertToInteractive('df-26ea8ec3-8f72-47a9-afb2-1c2bd9cc3889')\"\n",
              "            title=\"Convert this dataframe to an interactive table.\"\n",
              "            style=\"display:none;\">\n",
              "\n",
              "  <svg xmlns=\"http://www.w3.org/2000/svg\" height=\"24px\" viewBox=\"0 -960 960 960\">\n",
              "    <path d=\"M120-120v-720h720v720H120Zm60-500h600v-160H180v160Zm220 220h160v-160H400v160Zm0 220h160v-160H400v160ZM180-400h160v-160H180v160Zm440 0h160v-160H620v160ZM180-180h160v-160H180v160Zm440 0h160v-160H620v160Z\"/>\n",
              "  </svg>\n",
              "    </button>\n",
              "\n",
              "  <style>\n",
              "    .colab-df-container {\n",
              "      display:flex;\n",
              "      gap: 12px;\n",
              "    }\n",
              "\n",
              "    .colab-df-convert {\n",
              "      background-color: #E8F0FE;\n",
              "      border: none;\n",
              "      border-radius: 50%;\n",
              "      cursor: pointer;\n",
              "      display: none;\n",
              "      fill: #1967D2;\n",
              "      height: 32px;\n",
              "      padding: 0 0 0 0;\n",
              "      width: 32px;\n",
              "    }\n",
              "\n",
              "    .colab-df-convert:hover {\n",
              "      background-color: #E2EBFA;\n",
              "      box-shadow: 0px 1px 2px rgba(60, 64, 67, 0.3), 0px 1px 3px 1px rgba(60, 64, 67, 0.15);\n",
              "      fill: #174EA6;\n",
              "    }\n",
              "\n",
              "    .colab-df-buttons div {\n",
              "      margin-bottom: 4px;\n",
              "    }\n",
              "\n",
              "    [theme=dark] .colab-df-convert {\n",
              "      background-color: #3B4455;\n",
              "      fill: #D2E3FC;\n",
              "    }\n",
              "\n",
              "    [theme=dark] .colab-df-convert:hover {\n",
              "      background-color: #434B5C;\n",
              "      box-shadow: 0px 1px 3px 1px rgba(0, 0, 0, 0.15);\n",
              "      filter: drop-shadow(0px 1px 2px rgba(0, 0, 0, 0.3));\n",
              "      fill: #FFFFFF;\n",
              "    }\n",
              "  </style>\n",
              "\n",
              "    <script>\n",
              "      const buttonEl =\n",
              "        document.querySelector('#df-26ea8ec3-8f72-47a9-afb2-1c2bd9cc3889 button.colab-df-convert');\n",
              "      buttonEl.style.display =\n",
              "        google.colab.kernel.accessAllowed ? 'block' : 'none';\n",
              "\n",
              "      async function convertToInteractive(key) {\n",
              "        const element = document.querySelector('#df-26ea8ec3-8f72-47a9-afb2-1c2bd9cc3889');\n",
              "        const dataTable =\n",
              "          await google.colab.kernel.invokeFunction('convertToInteractive',\n",
              "                                                    [key], {});\n",
              "        if (!dataTable) return;\n",
              "\n",
              "        const docLinkHtml = 'Like what you see? Visit the ' +\n",
              "          '<a target=\"_blank\" href=https://colab.research.google.com/notebooks/data_table.ipynb>data table notebook</a>'\n",
              "          + ' to learn more about interactive tables.';\n",
              "        element.innerHTML = '';\n",
              "        dataTable['output_type'] = 'display_data';\n",
              "        await google.colab.output.renderOutput(dataTable, element);\n",
              "        const docLink = document.createElement('div');\n",
              "        docLink.innerHTML = docLinkHtml;\n",
              "        element.appendChild(docLink);\n",
              "      }\n",
              "    </script>\n",
              "  </div>\n",
              "\n",
              "\n",
              "<div id=\"df-bafbe885-0d60-4bf5-a108-b8dd8ceaca4b\">\n",
              "  <button class=\"colab-df-quickchart\" onclick=\"quickchart('df-bafbe885-0d60-4bf5-a108-b8dd8ceaca4b')\"\n",
              "            title=\"Suggest charts\"\n",
              "            style=\"display:none;\">\n",
              "\n",
              "<svg xmlns=\"http://www.w3.org/2000/svg\" height=\"24px\"viewBox=\"0 0 24 24\"\n",
              "     width=\"24px\">\n",
              "    <g>\n",
              "        <path d=\"M19 3H5c-1.1 0-2 .9-2 2v14c0 1.1.9 2 2 2h14c1.1 0 2-.9 2-2V5c0-1.1-.9-2-2-2zM9 17H7v-7h2v7zm4 0h-2V7h2v10zm4 0h-2v-4h2v4z\"/>\n",
              "    </g>\n",
              "</svg>\n",
              "  </button>\n",
              "\n",
              "<style>\n",
              "  .colab-df-quickchart {\n",
              "      --bg-color: #E8F0FE;\n",
              "      --fill-color: #1967D2;\n",
              "      --hover-bg-color: #E2EBFA;\n",
              "      --hover-fill-color: #174EA6;\n",
              "      --disabled-fill-color: #AAA;\n",
              "      --disabled-bg-color: #DDD;\n",
              "  }\n",
              "\n",
              "  [theme=dark] .colab-df-quickchart {\n",
              "      --bg-color: #3B4455;\n",
              "      --fill-color: #D2E3FC;\n",
              "      --hover-bg-color: #434B5C;\n",
              "      --hover-fill-color: #FFFFFF;\n",
              "      --disabled-bg-color: #3B4455;\n",
              "      --disabled-fill-color: #666;\n",
              "  }\n",
              "\n",
              "  .colab-df-quickchart {\n",
              "    background-color: var(--bg-color);\n",
              "    border: none;\n",
              "    border-radius: 50%;\n",
              "    cursor: pointer;\n",
              "    display: none;\n",
              "    fill: var(--fill-color);\n",
              "    height: 32px;\n",
              "    padding: 0;\n",
              "    width: 32px;\n",
              "  }\n",
              "\n",
              "  .colab-df-quickchart:hover {\n",
              "    background-color: var(--hover-bg-color);\n",
              "    box-shadow: 0 1px 2px rgba(60, 64, 67, 0.3), 0 1px 3px 1px rgba(60, 64, 67, 0.15);\n",
              "    fill: var(--button-hover-fill-color);\n",
              "  }\n",
              "\n",
              "  .colab-df-quickchart-complete:disabled,\n",
              "  .colab-df-quickchart-complete:disabled:hover {\n",
              "    background-color: var(--disabled-bg-color);\n",
              "    fill: var(--disabled-fill-color);\n",
              "    box-shadow: none;\n",
              "  }\n",
              "\n",
              "  .colab-df-spinner {\n",
              "    border: 2px solid var(--fill-color);\n",
              "    border-color: transparent;\n",
              "    border-bottom-color: var(--fill-color);\n",
              "    animation:\n",
              "      spin 1s steps(1) infinite;\n",
              "  }\n",
              "\n",
              "  @keyframes spin {\n",
              "    0% {\n",
              "      border-color: transparent;\n",
              "      border-bottom-color: var(--fill-color);\n",
              "      border-left-color: var(--fill-color);\n",
              "    }\n",
              "    20% {\n",
              "      border-color: transparent;\n",
              "      border-left-color: var(--fill-color);\n",
              "      border-top-color: var(--fill-color);\n",
              "    }\n",
              "    30% {\n",
              "      border-color: transparent;\n",
              "      border-left-color: var(--fill-color);\n",
              "      border-top-color: var(--fill-color);\n",
              "      border-right-color: var(--fill-color);\n",
              "    }\n",
              "    40% {\n",
              "      border-color: transparent;\n",
              "      border-right-color: var(--fill-color);\n",
              "      border-top-color: var(--fill-color);\n",
              "    }\n",
              "    60% {\n",
              "      border-color: transparent;\n",
              "      border-right-color: var(--fill-color);\n",
              "    }\n",
              "    80% {\n",
              "      border-color: transparent;\n",
              "      border-right-color: var(--fill-color);\n",
              "      border-bottom-color: var(--fill-color);\n",
              "    }\n",
              "    90% {\n",
              "      border-color: transparent;\n",
              "      border-bottom-color: var(--fill-color);\n",
              "    }\n",
              "  }\n",
              "</style>\n",
              "\n",
              "  <script>\n",
              "    async function quickchart(key) {\n",
              "      const quickchartButtonEl =\n",
              "        document.querySelector('#' + key + ' button');\n",
              "      quickchartButtonEl.disabled = true;  // To prevent multiple clicks.\n",
              "      quickchartButtonEl.classList.add('colab-df-spinner');\n",
              "      try {\n",
              "        const charts = await google.colab.kernel.invokeFunction(\n",
              "            'suggestCharts', [key], {});\n",
              "      } catch (error) {\n",
              "        console.error('Error during call to suggestCharts:', error);\n",
              "      }\n",
              "      quickchartButtonEl.classList.remove('colab-df-spinner');\n",
              "      quickchartButtonEl.classList.add('colab-df-quickchart-complete');\n",
              "    }\n",
              "    (() => {\n",
              "      let quickchartButtonEl =\n",
              "        document.querySelector('#df-bafbe885-0d60-4bf5-a108-b8dd8ceaca4b button');\n",
              "      quickchartButtonEl.style.display =\n",
              "        google.colab.kernel.accessAllowed ? 'block' : 'none';\n",
              "    })();\n",
              "  </script>\n",
              "</div>\n",
              "    </div>\n",
              "  </div>\n"
            ],
            "text/plain": [
              "               Jam  temperature     humidity          light           pH  \\\n",
              "count  5005.000000  5005.000000  5005.000000    5005.000000  5005.000000   \n",
              "mean     12.351025    26.618332    76.700699   34558.569431     6.520300   \n",
              "std      38.150216     2.416377    22.948338   49156.295229     0.262504   \n",
              "min       7.180000    12.390000     0.000000     560.000000     5.700000   \n",
              "25%       9.320000    24.800000    62.000000    8300.000000     6.400000   \n",
              "50%      11.320000    26.300000    83.000000   18840.000000     6.500000   \n",
              "75%      13.420000    28.000000    99.000000   39420.000000     6.700000   \n",
              "max    1358.000000    37.800000    99.000000  702000.000000     7.100000   \n",
              "\n",
              "                EC          TDS    WaterTemp      Pattern  \n",
              "count  5005.000000  5005.000000  5005.000000  5005.000000  \n",
              "mean   1675.379421   837.839560    26.296803     2.008791  \n",
              "std     728.307725   364.706067     2.368517     0.832927  \n",
              "min     336.000000   161.000000     3.600000     1.000000  \n",
              "25%    1143.000000   571.000000    24.500000     1.000000  \n",
              "50%    1587.000000   793.000000    26.100000     2.000000  \n",
              "75%    2248.000000  1124.000000    27.500000     3.000000  \n",
              "max    3178.000000  1934.000000    34.200000     3.000000  "
            ]
          },
          "metadata": {},
          "output_type": "display_data"
        }
      ],
      "source": [
        "# Cek dataframe apakah nilai temperature sudah benar dengan melihat min dan max\n",
        "df.describe()"
      ]
    },
    {
      "cell_type": "markdown",
      "metadata": {},
      "source": [
        "#### Handling Outliers"
      ]
    },
    {
      "cell_type": "markdown",
      "metadata": {},
      "source": [
        "##### Visualisasi Boxplot"
      ]
    },
    {
      "cell_type": "code",
      "execution_count": null,
      "metadata": {},
      "outputs": [
        {
          "data": {
            "text/plain": [
              "<Axes: xlabel='temperature'>"
            ]
          },
          "metadata": {},
          "output_type": "display_data"
        },
        {
          "data": {
            "image/png": "[encoded data removed]",
            "text/plain": [
              "<Figure size 640x480 with 1 Axes>"
            ]
          },
          "metadata": {},
          "output_type": "display_data"
        }
      ],
      "source": [
        "sns.boxplot(x=df['temperature'])"
      ]
    },
    {
      "cell_type": "code",
      "execution_count": null,
      "metadata": {},
      "outputs": [
        {
          "data": {
            "text/plain": [
              "<Axes: xlabel='humidity'>"
            ]
          },
          "metadata": {},
          "output_type": "display_data"
        },
        {
          "data": {
            "image/png": "[encoded data removed]",
            "text/plain": [
              "<Figure size 640x480 with 1 Axes>"
            ]
          },
          "metadata": {},
          "output_type": "display_data"
        }
      ],
      "source": [
        "sns.boxplot(x=df['humidity'])"
      ]
    },
    {
      "cell_type": "code",
      "execution_count": null,
      "metadata": {},
      "outputs": [
        {
          "data": {
            "text/plain": [
              "<Axes: xlabel='light'>"
            ]
          },
          "metadata": {},
          "output_type": "display_data"
        },
        {
          "data": {
            "image/png": "[encoded data removed]",
            "text/plain": [
              "<Figure size 640x480 with 1 Axes>"
            ]
          },
          "metadata": {},
          "output_type": "display_data"
        }
      ],
      "source": [
        "sns.boxplot(x=df['light'])"
      ]
    },
    {
      "cell_type": "code",
      "execution_count": null,
      "metadata": {},
      "outputs": [
        {
          "data": {
            "text/plain": [
              "<Axes: xlabel='pH'>"
            ]
          },
          "metadata": {},
          "output_type": "display_data"
        },
        {
          "data": {
            "image/png": "[encoded data removed]",
            "text/plain": [
              "<Figure size 640x480 with 1 Axes>"
            ]
          },
          "metadata": {},
          "output_type": "display_data"
        }
      ],
      "source": [
        "sns.boxplot(x=df['pH'])"
      ]
    },
    {
      "cell_type": "code",
      "execution_count": null,
      "metadata": {},
      "outputs": [
        {
          "data": {
            "text/plain": [
              "<Axes: xlabel='EC'>"
            ]
          },
          "metadata": {},
          "output_type": "display_data"
        },
        {
          "data": {
            "image/png": "[encoded data removed]",
            "text/plain": [
              "<Figure size 640x480 with 1 Axes>"
            ]
          },
          "metadata": {},
          "output_type": "display_data"
        }
      ],
      "source": [
        "sns.boxplot(x=df['EC'])"
      ]
    },
    {
      "cell_type": "code",
      "execution_count": null,
      "metadata": {},
      "outputs": [
        {
          "data": {
            "text/plain": [
              "<Axes: xlabel='TDS'>"
            ]
          },
          "metadata": {},
          "output_type": "display_data"
        },
        {
          "data": {
            "image/png": "[encoded data removed]",
            "text/plain": [
              "<Figure size 640x480 with 1 Axes>"
            ]
          },
          "metadata": {},
          "output_type": "display_data"
        }
      ],
      "source": [
        "sns.boxplot(x=df['TDS'])"
      ]
    },
    {
      "cell_type": "code",
      "execution_count": null,
      "metadata": {},
      "outputs": [
        {
          "data": {
            "text/plain": [
              "<Axes: xlabel='WaterTemp'>"
            ]
          },
          "metadata": {},
          "output_type": "display_data"
        },
        {
          "data": {
            "image/png": "[encoded data removed]",
            "text/plain": [
              "<Figure size 640x480 with 1 Axes>"
            ]
          },
          "metadata": {},
          "output_type": "display_data"
        }
      ],
      "source": [
        "sns.boxplot(x=df['WaterTemp'])"
      ]
    },
    {
      "cell_type": "markdown",
      "metadata": {},
      "source": [
        "##### Menangani Outlier dengan IQR"
      ]
    },
    {
      "cell_type": "code",
      "execution_count": null,
      "metadata": {},
      "outputs": [
        {
          "data": {
            "text/plain": [
              "(4057, 10)"
            ]
          },
          "metadata": {},
          "output_type": "display_data"
        }
      ],
      "source": [
        "# Tentukan kolom yang akan dipertimbangkan\n",
        "kolom_yang_dipertimbangkan = ['temperature', 'humidity', 'light', 'pH', 'EC', 'TDS', 'WaterTemp']\n",
        "\n",
        "# Hitung IQR untuk kolom-kolom yang sudah ditentukan\n",
        "Q1 = df[kolom_yang_dipertimbangkan].quantile(0.25)\n",
        "Q3 = df[kolom_yang_dipertimbangkan].quantile(0.75)\n",
        "IQR = Q3 - Q1\n",
        "\n",
        "# Filter outlier untuk kolom-kolom yang sudah ditentukan\n",
        "insurance = df[~((df[kolom_yang_dipertimbangkan] < (Q1 - 1.5 * IQR)) | (df[kolom_yang_dipertimbangkan] > (Q3 + 1.5 * IQR))).any(axis=1)]\n",
        "\n",
        "# Periksa ukuran dataset setelah menghapus outlier\n",
        "insurance.shape"
      ]
    },
    {
      "cell_type": "markdown",
      "metadata": {},
      "source": [
        "#### Drop Not Important Column"
      ]
    },
    {
      "cell_type": "code",
      "execution_count": null,
      "metadata": {},
      "outputs": [
        {
          "data": {
            "application/vnd.google.colaboratory.intrinsic+json": {
              "summary": "{\n  \"name\": \"df\",\n  \"rows\": 5005,\n  \"fields\": [\n    {\n      \"column\": \"temperature\",\n      \"properties\": {\n        \"dtype\": \"number\",\n        \"std\": 2.416377414651545,\n        \"min\": 12.39,\n        \"max\": 37.8,\n        \"num_unique_values\": 108,\n        \"samples\": [\n          28.2,\n          24.7,\n          25.8\n        ],\n        \"semantic_type\": \"\",\n        \"description\": \"\"\n      }\n    },\n    {\n      \"column\": \"humidity\",\n      \"properties\": {\n        \"dtype\": \"number\",\n        \"std\": 22,\n        \"min\": 0,\n        \"max\": 99,\n        \"num_unique_values\": 64,\n        \"samples\": [\n          82,\n          62,\n          67\n        ],\n        \"semantic_type\": \"\",\n        \"description\": \"\"\n      }\n    },\n    {\n      \"column\": \"light\",\n      \"properties\": {\n        \"dtype\": \"number\",\n        \"std\": 49156,\n        \"min\": 560,\n        \"max\": 702000,\n        \"num_unique_values\": 870,\n        \"samples\": [\n          12030,\n          9836,\n          3281\n        ],\n        \"semantic_type\": \"\",\n        \"description\": \"\"\n      }\n    },\n    {\n      \"column\": \"pH\",\n      \"properties\": {\n        \"dtype\": \"number\",\n        \"std\": 0.262504063555602,\n        \"min\": 5.7,\n        \"max\": 7.1,\n        \"num_unique_values\": 15,\n        \"samples\": [\n          7.0,\n          5.8,\n          6.4\n        ],\n        \"semantic_type\": \"\",\n        \"description\": \"\"\n      }\n    },\n    {\n      \"column\": \"EC\",\n      \"properties\": {\n        \"dtype\": \"number\",\n        \"std\": 728,\n        \"min\": 336,\n        \"max\": 3178,\n        \"num_unique_values\": 537,\n        \"samples\": [\n          2100,\n          1690,\n          1070\n        ],\n        \"semantic_type\": \"\",\n        \"description\": \"\"\n      }\n    },\n    {\n      \"column\": \"TDS\",\n      \"properties\": {\n        \"dtype\": \"number\",\n        \"std\": 364,\n        \"min\": 161,\n        \"max\": 1934,\n        \"num_unique_values\": 453,\n        \"samples\": [\n          1130,\n          437,\n          1150\n        ],\n        \"semantic_type\": \"\",\n        \"description\": \"\"\n      }\n    },\n    {\n      \"column\": \"WaterTemp\",\n      \"properties\": {\n        \"dtype\": \"number\",\n        \"std\": 2.3685172304910225,\n        \"min\": 3.6,\n        \"max\": 34.2,\n        \"num_unique_values\": 110,\n        \"samples\": [\n          29.4,\n          26.2,\n          25.7\n        ],\n        \"semantic_type\": \"\",\n        \"description\": \"\"\n      }\n    },\n    {\n      \"column\": \"Pattern\",\n      \"properties\": {\n        \"dtype\": \"number\",\n        \"std\": 0,\n        \"min\": 1,\n        \"max\": 3,\n        \"num_unique_values\": 3,\n        \"samples\": [\n          1,\n          2,\n          3\n        ],\n        \"semantic_type\": \"\",\n        \"description\": \"\"\n      }\n    }\n  ]\n}",
              "type": "dataframe",
              "variable_name": "df"
            },
            "text/html": [
              "\n",
              "  <div id=\"df-c343f631-ef89-4910-b1e1-710abf03cce2\" class=\"colab-df-container\">\n",
              "    <div>\n",
              "<style scoped>\n",
              "    .dataframe tbody tr th:only-of-type {\n",
              "        vertical-align: middle;\n",
              "    }\n",
              "\n",
              "    .dataframe tbody tr th {\n",
              "        vertical-align: top;\n",
              "    }\n",
              "\n",
              "    .dataframe thead th {\n",
              "        text-align: right;\n",
              "    }\n",
              "</style>\n",
              "<table border=\"1\" class=\"dataframe\">\n",
              "  <thead>\n",
              "    <tr style=\"text-align: right;\">\n",
              "      <th></th>\n",
              "      <th>temperature</th>\n",
              "      <th>humidity</th>\n",
              "      <th>light</th>\n",
              "      <th>pH</th>\n",
              "      <th>EC</th>\n",
              "      <th>TDS</th>\n",
              "      <th>WaterTemp</th>\n",
              "      <th>Pattern</th>\n",
              "    </tr>\n",
              "  </thead>\n",
              "  <tbody>\n",
              "    <tr>\n",
              "      <th>0</th>\n",
              "      <td>25.5</td>\n",
              "      <td>67</td>\n",
              "      <td>17660</td>\n",
              "      <td>6.4</td>\n",
              "      <td>855</td>\n",
              "      <td>427</td>\n",
              "      <td>29.7</td>\n",
              "      <td>1</td>\n",
              "    </tr>\n",
              "    <tr>\n",
              "      <th>1</th>\n",
              "      <td>26.9</td>\n",
              "      <td>80</td>\n",
              "      <td>86930</td>\n",
              "      <td>6.7</td>\n",
              "      <td>929</td>\n",
              "      <td>464</td>\n",
              "      <td>27.0</td>\n",
              "      <td>1</td>\n",
              "    </tr>\n",
              "    <tr>\n",
              "      <th>2</th>\n",
              "      <td>25.7</td>\n",
              "      <td>77</td>\n",
              "      <td>23320</td>\n",
              "      <td>6.1</td>\n",
              "      <td>900</td>\n",
              "      <td>449</td>\n",
              "      <td>25.4</td>\n",
              "      <td>1</td>\n",
              "    </tr>\n",
              "    <tr>\n",
              "      <th>3</th>\n",
              "      <td>26.6</td>\n",
              "      <td>69</td>\n",
              "      <td>32280</td>\n",
              "      <td>6.7</td>\n",
              "      <td>887</td>\n",
              "      <td>443</td>\n",
              "      <td>26.1</td>\n",
              "      <td>1</td>\n",
              "    </tr>\n",
              "    <tr>\n",
              "      <th>4</th>\n",
              "      <td>25.8</td>\n",
              "      <td>65</td>\n",
              "      <td>41750</td>\n",
              "      <td>6.6</td>\n",
              "      <td>967</td>\n",
              "      <td>482</td>\n",
              "      <td>25.7</td>\n",
              "      <td>1</td>\n",
              "    </tr>\n",
              "  </tbody>\n",
              "</table>\n",
              "</div>\n",
              "    <div class=\"colab-df-buttons\">\n",
              "\n",
              "  <div class=\"colab-df-container\">\n",
              "    <button class=\"colab-df-convert\" onclick=\"convertToInteractive('df-c343f631-ef89-4910-b1e1-710abf03cce2')\"\n",
              "            title=\"Convert this dataframe to an interactive table.\"\n",
              "            style=\"display:none;\">\n",
              "\n",
              "  <svg xmlns=\"http://www.w3.org/2000/svg\" height=\"24px\" viewBox=\"0 -960 960 960\">\n",
              "    <path d=\"M120-120v-720h720v720H120Zm60-500h600v-160H180v160Zm220 220h160v-160H400v160Zm0 220h160v-160H400v160ZM180-400h160v-160H180v160Zm440 0h160v-160H620v160ZM180-180h160v-160H180v160Zm440 0h160v-160H620v160Z\"/>\n",
              "  </svg>\n",
              "    </button>\n",
              "\n",
              "  <style>\n",
              "    .colab-df-container {\n",
              "      display:flex;\n",
              "      gap: 12px;\n",
              "    }\n",
              "\n",
              "    .colab-df-convert {\n",
              "      background-color: #E8F0FE;\n",
              "      border: none;\n",
              "      border-radius: 50%;\n",
              "      cursor: pointer;\n",
              "      display: none;\n",
              "      fill: #1967D2;\n",
              "      height: 32px;\n",
              "      padding: 0 0 0 0;\n",
              "      width: 32px;\n",
              "    }\n",
              "\n",
              "    .colab-df-convert:hover {\n",
              "      background-color: #E2EBFA;\n",
              "      box-shadow: 0px 1px 2px rgba(60, 64, 67, 0.3), 0px 1px 3px 1px rgba(60, 64, 67, 0.15);\n",
              "      fill: #174EA6;\n",
              "    }\n",
              "\n",
              "    .colab-df-buttons div {\n",
              "      margin-bottom: 4px;\n",
              "    }\n",
              "\n",
              "    [theme=dark] .colab-df-convert {\n",
              "      background-color: #3B4455;\n",
              "      fill: #D2E3FC;\n",
              "    }\n",
              "\n",
              "    [theme=dark] .colab-df-convert:hover {\n",
              "      background-color: #434B5C;\n",
              "      box-shadow: 0px 1px 3px 1px rgba(0, 0, 0, 0.15);\n",
              "      filter: drop-shadow(0px 1px 2px rgba(0, 0, 0, 0.3));\n",
              "      fill: #FFFFFF;\n",
              "    }\n",
              "  </style>\n",
              "\n",
              "    <script>\n",
              "      const buttonEl =\n",
              "        document.querySelector('#df-c343f631-ef89-4910-b1e1-710abf03cce2 button.colab-df-convert');\n",
              "      buttonEl.style.display =\n",
              "        google.colab.kernel.accessAllowed ? 'block' : 'none';\n",
              "\n",
              "      async function convertToInteractive(key) {\n",
              "        const element = document.querySelector('#df-c343f631-ef89-4910-b1e1-710abf03cce2');\n",
              "        const dataTable =\n",
              "          await google.colab.kernel.invokeFunction('convertToInteractive',\n",
              "                                                    [key], {});\n",
              "        if (!dataTable) return;\n",
              "\n",
              "        const docLinkHtml = 'Like what you see? Visit the ' +\n",
              "          '<a target=\"_blank\" href=https://colab.research.google.com/notebooks/data_table.ipynb>data table notebook</a>'\n",
              "          + ' to learn more about interactive tables.';\n",
              "        element.innerHTML = '';\n",
              "        dataTable['output_type'] = 'display_data';\n",
              "        await google.colab.output.renderOutput(dataTable, element);\n",
              "        const docLink = document.createElement('div');\n",
              "        docLink.innerHTML = docLinkHtml;\n",
              "        element.appendChild(docLink);\n",
              "      }\n",
              "    </script>\n",
              "  </div>\n",
              "\n",
              "\n",
              "<div id=\"df-bd0584dc-2a6d-4d21-ac45-3297c2ea0701\">\n",
              "  <button class=\"colab-df-quickchart\" onclick=\"quickchart('df-bd0584dc-2a6d-4d21-ac45-3297c2ea0701')\"\n",
              "            title=\"Suggest charts\"\n",
              "            style=\"display:none;\">\n",
              "\n",
              "<svg xmlns=\"http://www.w3.org/2000/svg\" height=\"24px\"viewBox=\"0 0 24 24\"\n",
              "     width=\"24px\">\n",
              "    <g>\n",
              "        <path d=\"M19 3H5c-1.1 0-2 .9-2 2v14c0 1.1.9 2 2 2h14c1.1 0 2-.9 2-2V5c0-1.1-.9-2-2-2zM9 17H7v-7h2v7zm4 0h-2V7h2v10zm4 0h-2v-4h2v4z\"/>\n",
              "    </g>\n",
              "</svg>\n",
              "  </button>\n",
              "\n",
              "<style>\n",
              "  .colab-df-quickchart {\n",
              "      --bg-color: #E8F0FE;\n",
              "      --fill-color: #1967D2;\n",
              "      --hover-bg-color: #E2EBFA;\n",
              "      --hover-fill-color: #174EA6;\n",
              "      --disabled-fill-color: #AAA;\n",
              "      --disabled-bg-color: #DDD;\n",
              "  }\n",
              "\n",
              "  [theme=dark] .colab-df-quickchart {\n",
              "      --bg-color: #3B4455;\n",
              "      --fill-color: #D2E3FC;\n",
              "      --hover-bg-color: #434B5C;\n",
              "      --hover-fill-color: #FFFFFF;\n",
              "      --disabled-bg-color: #3B4455;\n",
              "      --disabled-fill-color: #666;\n",
              "  }\n",
              "\n",
              "  .colab-df-quickchart {\n",
              "    background-color: var(--bg-color);\n",
              "    border: none;\n",
              "    border-radius: 50%;\n",
              "    cursor: pointer;\n",
              "    display: none;\n",
              "    fill: var(--fill-color);\n",
              "    height: 32px;\n",
              "    padding: 0;\n",
              "    width: 32px;\n",
              "  }\n",
              "\n",
              "  .colab-df-quickchart:hover {\n",
              "    background-color: var(--hover-bg-color);\n",
              "    box-shadow: 0 1px 2px rgba(60, 64, 67, 0.3), 0 1px 3px 1px rgba(60, 64, 67, 0.15);\n",
              "    fill: var(--button-hover-fill-color);\n",
              "  }\n",
              "\n",
              "  .colab-df-quickchart-complete:disabled,\n",
              "  .colab-df-quickchart-complete:disabled:hover {\n",
              "    background-color: var(--disabled-bg-color);\n",
              "    fill: var(--disabled-fill-color);\n",
              "    box-shadow: none;\n",
              "  }\n",
              "\n",
              "  .colab-df-spinner {\n",
              "    border: 2px solid var(--fill-color);\n",
              "    border-color: transparent;\n",
              "    border-bottom-color: var(--fill-color);\n",
              "    animation:\n",
              "      spin 1s steps(1) infinite;\n",
              "  }\n",
              "\n",
              "  @keyframes spin {\n",
              "    0% {\n",
              "      border-color: transparent;\n",
              "      border-bottom-color: var(--fill-color);\n",
              "      border-left-color: var(--fill-color);\n",
              "    }\n",
              "    20% {\n",
              "      border-color: transparent;\n",
              "      border-left-color: var(--fill-color);\n",
              "      border-top-color: var(--fill-color);\n",
              "    }\n",
              "    30% {\n",
              "      border-color: transparent;\n",
              "      border-left-color: var(--fill-color);\n",
              "      border-top-color: var(--fill-color);\n",
              "      border-right-color: var(--fill-color);\n",
              "    }\n",
              "    40% {\n",
              "      border-color: transparent;\n",
              "      border-right-color: var(--fill-color);\n",
              "      border-top-color: var(--fill-color);\n",
              "    }\n",
              "    60% {\n",
              "      border-color: transparent;\n",
              "      border-right-color: var(--fill-color);\n",
              "    }\n",
              "    80% {\n",
              "      border-color: transparent;\n",
              "      border-right-color: var(--fill-color);\n",
              "      border-bottom-color: var(--fill-color);\n",
              "    }\n",
              "    90% {\n",
              "      border-color: transparent;\n",
              "      border-bottom-color: var(--fill-color);\n",
              "    }\n",
              "  }\n",
              "</style>\n",
              "\n",
              "  <script>\n",
              "    async function quickchart(key) {\n",
              "      const quickchartButtonEl =\n",
              "        document.querySelector('#' + key + ' button');\n",
              "      quickchartButtonEl.disabled = true;  // To prevent multiple clicks.\n",
              "      quickchartButtonEl.classList.add('colab-df-spinner');\n",
              "      try {\n",
              "        const charts = await google.colab.kernel.invokeFunction(\n",
              "            'suggestCharts', [key], {});\n",
              "      } catch (error) {\n",
              "        console.error('Error during call to suggestCharts:', error);\n",
              "      }\n",
              "      quickchartButtonEl.classList.remove('colab-df-spinner');\n",
              "      quickchartButtonEl.classList.add('colab-df-quickchart-complete');\n",
              "    }\n",
              "    (() => {\n",
              "      let quickchartButtonEl =\n",
              "        document.querySelector('#df-bd0584dc-2a6d-4d21-ac45-3297c2ea0701 button');\n",
              "      quickchartButtonEl.style.display =\n",
              "        google.colab.kernel.accessAllowed ? 'block' : 'none';\n",
              "    })();\n",
              "  </script>\n",
              "</div>\n",
              "    </div>\n",
              "  </div>\n"
            ],
            "text/plain": [
              "   temperature  humidity  light   pH   EC  TDS  WaterTemp  Pattern\n",
              "0         25.5        67  17660  6.4  855  427       29.7        1\n",
              "1         26.9        80  86930  6.7  929  464       27.0        1\n",
              "2         25.7        77  23320  6.1  900  449       25.4        1\n",
              "3         26.6        69  32280  6.7  887  443       26.1        1\n",
              "4         25.8        65  41750  6.6  967  482       25.7        1"
            ]
          },
          "metadata": {},
          "output_type": "display_data"
        }
      ],
      "source": [
        "df = df.drop(columns=['Jam', 'Label'])\n",
        "\n",
        "df.head()"
      ]
    },
    {
      "cell_type": "markdown",
      "metadata": {
        "id": "fYyEq_6gqdgi"
      },
      "source": [
        "### Data PreProcessing"
      ]
    },
    {
      "cell_type": "code",
      "execution_count": 15,
      "metadata": {
        "id": "aGjY0qHrqNzX"
      },
      "outputs": [],
      "source": [
        "# Membuat fitur-fitur yang akan digunakan\n",
        "fitur = ['temperature', 'humidity', 'light', 'pH', 'EC', 'TDS', 'WaterTemp']\n",
        "\n",
        "# Mengganti nilai-nilai dalam DataFrame\n",
        "X = df[fitur]\n",
        "\n",
        "# Variabel Target\n",
        "y = df['Pattern']"
      ]
    },
    {
      "cell_type": "code",
      "execution_count": 16,
      "metadata": {
        "colab": {
          "base_uri": "https://localhost:8080/",
          "height": 206
        },
        "id": "uWuAlLttqaFa",
        "outputId": "39245b98-235d-46b0-dd64-75b98af32c94"
      },
      "outputs": [
        {
          "data": {
            "text/html": [
              "<div>\n",
              "<style scoped>\n",
              "    .dataframe tbody tr th:only-of-type {\n",
              "        vertical-align: middle;\n",
              "    }\n",
              "\n",
              "    .dataframe tbody tr th {\n",
              "        vertical-align: top;\n",
              "    }\n",
              "\n",
              "    .dataframe thead th {\n",
              "        text-align: right;\n",
              "    }\n",
              "</style>\n",
              "<table border=\"1\" class=\"dataframe\">\n",
              "  <thead>\n",
              "    <tr style=\"text-align: right;\">\n",
              "      <th></th>\n",
              "      <th>temperature</th>\n",
              "      <th>humidity</th>\n",
              "      <th>light</th>\n",
              "      <th>pH</th>\n",
              "      <th>EC</th>\n",
              "      <th>TDS</th>\n",
              "      <th>WaterTemp</th>\n",
              "    </tr>\n",
              "  </thead>\n",
              "  <tbody>\n",
              "    <tr>\n",
              "      <th>0</th>\n",
              "      <td>25.5</td>\n",
              "      <td>67</td>\n",
              "      <td>17660</td>\n",
              "      <td>6.4</td>\n",
              "      <td>855</td>\n",
              "      <td>427</td>\n",
              "      <td>29.7</td>\n",
              "    </tr>\n",
              "    <tr>\n",
              "      <th>1</th>\n",
              "      <td>26.9</td>\n",
              "      <td>80</td>\n",
              "      <td>86930</td>\n",
              "      <td>6.7</td>\n",
              "      <td>929</td>\n",
              "      <td>464</td>\n",
              "      <td>27.0</td>\n",
              "    </tr>\n",
              "    <tr>\n",
              "      <th>2</th>\n",
              "      <td>25.7</td>\n",
              "      <td>77</td>\n",
              "      <td>23320</td>\n",
              "      <td>6.1</td>\n",
              "      <td>900</td>\n",
              "      <td>449</td>\n",
              "      <td>25.4</td>\n",
              "    </tr>\n",
              "    <tr>\n",
              "      <th>3</th>\n",
              "      <td>26.6</td>\n",
              "      <td>69</td>\n",
              "      <td>32280</td>\n",
              "      <td>6.7</td>\n",
              "      <td>887</td>\n",
              "      <td>443</td>\n",
              "      <td>26.1</td>\n",
              "    </tr>\n",
              "    <tr>\n",
              "      <th>4</th>\n",
              "      <td>25.8</td>\n",
              "      <td>65</td>\n",
              "      <td>41750</td>\n",
              "      <td>6.6</td>\n",
              "      <td>967</td>\n",
              "      <td>482</td>\n",
              "      <td>25.7</td>\n",
              "    </tr>\n",
              "  </tbody>\n",
              "</table>\n",
              "</div>"
            ],
            "text/plain": [
              "   temperature  humidity  light   pH   EC  TDS  WaterTemp\n",
              "0         25.5        67  17660  6.4  855  427       29.7\n",
              "1         26.9        80  86930  6.7  929  464       27.0\n",
              "2         25.7        77  23320  6.1  900  449       25.4\n",
              "3         26.6        69  32280  6.7  887  443       26.1\n",
              "4         25.8        65  41750  6.6  967  482       25.7"
            ]
          },
          "execution_count": 16,
          "metadata": {},
          "output_type": "execute_result"
        }
      ],
      "source": [
        "# Display first 5 rows\n",
        "X.head()"
      ]
    },
    {
      "cell_type": "markdown",
      "metadata": {
        "id": "wNE9-clxqhKH"
      },
      "source": [
        "#### Split Data to Train and Test 80:20"
      ]
    },
    {
      "cell_type": "code",
      "execution_count": 17,
      "metadata": {
        "id": "BY29IVJRqkZo"
      },
      "outputs": [],
      "source": [
        "# Memisahkan data menjadi data latih dan data uji dengan perbandingan 80% dan 20%\n",
        "X_train, X_test, y_train, y_test = train_test_split(X, y, test_size=0.2, random_state=42)"
      ]
    },
    {
      "cell_type": "code",
      "execution_count": 18,
      "metadata": {
        "colab": {
          "base_uri": "https://localhost:8080/"
        },
        "id": "OkQ24d0Dqmhn",
        "outputId": "eef3dfeb-a96e-49a4-d166-f5a897c7373f"
      },
      "outputs": [
        {
          "name": "stdout",
          "output_type": "stream",
          "text": [
            "Total # of sample in whole dataset: 5005\n",
            "Total # of sample in train dataset: 4004\n",
            "Total # of sample in test dataset: 1001\n"
          ]
        }
      ],
      "source": [
        "# Menampilkan jumlah total sampel dalam dataset keseluruhan\n",
        "print(f'Total # of sample in whole dataset: {len(X)}')\n",
        "\n",
        "# Menampilkan jumlah total sampel dalam dataset latih\n",
        "print(f'Total # of sample in train dataset: {len(X_train)}')\n",
        "\n",
        "# Menampilkan jumlah total sampel dalam dataset uji\n",
        "print(f'Total # of sample in test dataset: {len(X_test)}')"
      ]
    },
    {
      "cell_type": "markdown",
      "metadata": {
        "id": "UWScGPi1r-LO"
      },
      "source": [
        "### Standarisasi\n",
        "Mengubah setiap fitur dalam data sehingga memiliki mean 0 dan standar deviasi 1."
      ]
    },
    {
      "cell_type": "code",
      "execution_count": 19,
      "metadata": {
        "colab": {
          "base_uri": "https://localhost:8080/"
        },
        "id": "RCK6cZ-QsBXv",
        "outputId": "ca5a620c-3b17-41c2-c33f-17af44aea182"
      },
      "outputs": [
        {
          "name": "stdout",
          "output_type": "stream",
          "text": [
            "Kolom non-numeric: Index([], dtype='object')\n"
          ]
        }
      ],
      "source": [
        "# Memeriksa kolom-kolom non-numeric\n",
        "kolom_non_numerik = X.select_dtypes(exclude=['float64', 'int64']).columns\n",
        "print(\"Kolom non-numeric:\", kolom_non_numerik)"
      ]
    },
    {
      "cell_type": "code",
      "execution_count": 37,
      "metadata": {
        "id": "fCY1kLnNsFMo"
      },
      "outputs": [],
      "source": [
        "# Standard Scaling\n",
        "scaler = StandardScaler()\n",
        "X_train_scaled = scaler.fit_transform(X_train)\n",
        "X_test_scaled = scaler.transform(X_test)"
      ]
    },
    {
      "cell_type": "markdown",
      "metadata": {
        "id": "g-jd3CgqSGnr"
      },
      "source": [
        "## Model Deployment\n",
        "\n",
        "Dengan Default Parameter"
      ]
    },
    {
      "cell_type": "markdown",
      "metadata": {},
      "source": [
        "### Deklarasi variabel Models"
      ]
    },
    {
      "cell_type": "code",
      "execution_count": 162,
      "metadata": {
        "id": "kxDSEttasWsF"
      },
      "outputs": [],
      "source": [
        "# Train Models\n",
        "models = {\n",
        "    \"Gradient Boosting Classifier\": GradientBoostingClassifier(),\n",
        "    \"Random Forest\": RandomForestClassifier(),\n",
        "    \"Support Vector Machine\": SVC(),\n",
        "    \"K-Nearest Neighbors\": KNeighborsClassifier()\n",
        "}"
      ]
    },
    {
      "cell_type": "markdown",
      "metadata": {},
      "source": [
        "#### Membuat variabel list untuk menyimpan hasil train models"
      ]
    },
    {
      "cell_type": "code",
      "execution_count": 163,
      "metadata": {
        "id": "pjxPZezvOlBd"
      },
      "outputs": [],
      "source": [
        "# Create an empty list to store results\n",
        "results_list = []"
      ]
    },
    {
      "cell_type": "markdown",
      "metadata": {},
      "source": [
        "#### Melakukan training klasifikasi model"
      ]
    },
    {
      "cell_type": "code",
      "execution_count": 164,
      "metadata": {
        "colab": {
          "base_uri": "https://localhost:8080/"
        },
        "id": "xqnpxifFsjpV",
        "outputId": "98e5f2f3-75eb-4742-de46-04bc9fe74afb"
      },
      "outputs": [],
      "source": [
        "# Classification Model Reports\n",
        "for name, model in models.items():\n",
        "    # Assuming models is a dictionary containing your classifier instances\n",
        "    model.fit(X_train, y_train)\n",
        "    y_pred = model.predict(X_test)\n",
        "\n",
        "    # Calculate accuracy\n",
        "    accuracy = accuracy_score(y_test, y_pred)\n",
        "\n",
        "    # Generate classification report\n",
        "    report_dict = classification_report(y_test, y_pred, output_dict=True)\n",
        "\n",
        "    # Extract precision, recall, and f1-score\n",
        "    precision = report_dict['weighted avg']['precision']\n",
        "    recall = report_dict['weighted avg']['recall']\n",
        "    f1_score = report_dict['weighted avg']['f1-score']\n",
        "\n",
        "    # Append results to list\n",
        "    results_list.append({\n",
        "        'Model': name,\n",
        "        'Accuracy': accuracy,\n",
        "        'Precision': precision,\n",
        "        'Recall': recall,\n",
        "        'F1 Score': f1_score\n",
        "    })"
      ]
    },
    {
      "cell_type": "markdown",
      "metadata": {},
      "source": [
        "#### Membuat dataframe baru bernama results_train_df yang berisi nilai dari list results_list"
      ]
    },
    {
      "cell_type": "code",
      "execution_count": 165,
      "metadata": {},
      "outputs": [],
      "source": [
        "# Convert list of dictionaries to DataFrame\n",
        "results_train_df = pd.DataFrame(results_list)"
      ]
    },
    {
      "cell_type": "markdown",
      "metadata": {
        "id": "4g-1_0uJSJ3A"
      },
      "source": [
        "## Model Evaluation"
      ]
    },
    {
      "cell_type": "markdown",
      "metadata": {
        "id": "C8r45vj5N7qP"
      },
      "source": [
        "### Display Akurasi masing masing model"
      ]
    },
    {
      "cell_type": "code",
      "execution_count": 166,
      "metadata": {
        "colab": {
          "base_uri": "https://localhost:8080/",
          "height": 175
        },
        "id": "fgKQYWVCP4tl",
        "outputId": "87a4b12f-a440-414d-f31b-56748ca90232"
      },
      "outputs": [
        {
          "data": {
            "text/html": [
              "<div>\n",
              "<style scoped>\n",
              "    .dataframe tbody tr th:only-of-type {\n",
              "        vertical-align: middle;\n",
              "    }\n",
              "\n",
              "    .dataframe tbody tr th {\n",
              "        vertical-align: top;\n",
              "    }\n",
              "\n",
              "    .dataframe thead th {\n",
              "        text-align: right;\n",
              "    }\n",
              "</style>\n",
              "<table border=\"1\" class=\"dataframe\">\n",
              "  <thead>\n",
              "    <tr style=\"text-align: right;\">\n",
              "      <th></th>\n",
              "      <th>Model</th>\n",
              "      <th>Accuracy</th>\n",
              "      <th>Precision</th>\n",
              "      <th>Recall</th>\n",
              "      <th>F1 Score</th>\n",
              "    </tr>\n",
              "  </thead>\n",
              "  <tbody>\n",
              "    <tr>\n",
              "      <th>0</th>\n",
              "      <td>Gradient Boosting Classifier</td>\n",
              "      <td>0.922078</td>\n",
              "      <td>0.924836</td>\n",
              "      <td>0.922078</td>\n",
              "      <td>0.922765</td>\n",
              "    </tr>\n",
              "    <tr>\n",
              "      <th>1</th>\n",
              "      <td>Random Forest</td>\n",
              "      <td>0.904096</td>\n",
              "      <td>0.906997</td>\n",
              "      <td>0.904096</td>\n",
              "      <td>0.904894</td>\n",
              "    </tr>\n",
              "    <tr>\n",
              "      <th>2</th>\n",
              "      <td>Support Vector Machine</td>\n",
              "      <td>0.568432</td>\n",
              "      <td>0.661333</td>\n",
              "      <td>0.568432</td>\n",
              "      <td>0.480887</td>\n",
              "    </tr>\n",
              "    <tr>\n",
              "      <th>3</th>\n",
              "      <td>K-Nearest Neighbors</td>\n",
              "      <td>0.792208</td>\n",
              "      <td>0.801343</td>\n",
              "      <td>0.792208</td>\n",
              "      <td>0.794079</td>\n",
              "    </tr>\n",
              "  </tbody>\n",
              "</table>\n",
              "</div>"
            ],
            "text/plain": [
              "                          Model  Accuracy  Precision    Recall  F1 Score\n",
              "0  Gradient Boosting Classifier  0.922078   0.924836  0.922078  0.922765\n",
              "1                 Random Forest  0.904096   0.906997  0.904096  0.904894\n",
              "2        Support Vector Machine  0.568432   0.661333  0.568432  0.480887\n",
              "3           K-Nearest Neighbors  0.792208   0.801343  0.792208  0.794079"
            ]
          },
          "execution_count": 166,
          "metadata": {},
          "output_type": "execute_result"
        }
      ],
      "source": [
        "results_train_df"
      ]
    },
    {
      "cell_type": "markdown",
      "metadata": {},
      "source": [
        "#### Visualisasi hasil train model yang disimpan di variabel results_train_df menggunakan library matplotlib"
      ]
    },
    {
      "cell_type": "code",
      "execution_count": 129,
      "metadata": {
        "colab": {
          "base_uri": "https://localhost:8080/",
          "height": 502
        },
        "id": "fBmiX6KGP-ed",
        "outputId": "d61efcd9-cdcd-4ad3-cd29-dada9d481af1"
      },
      "outputs": [
        {
          "data": {
            "image/png": "[encoded data removed]",
            "text/plain": [
              "<Figure size 640x480 with 1 Axes>"
            ]
          },
          "metadata": {},
          "output_type": "display_data"
        }
      ],
      "source": [
        "# Set 'Model' column as index\n",
        "results_train_df.set_index('Model', inplace=True)\n",
        "\n",
        "# Plot the DataFrame\n",
        "results_train_df.plot(kind='bar')\n",
        "\n",
        "# Set plot labels and title\n",
        "plt.xlabel('Model')\n",
        "plt.ylabel('Metrics')\n",
        "plt.title('Performance Metrics by Model')\n",
        "\n",
        "# Show the plot\n",
        "plt.show()"
      ]
    },
    {
      "cell_type": "markdown",
      "metadata": {
        "id": "y9nGvoFCQNrg"
      },
      "source": [
        "### Menambahkan Hyperparameter masing masing model"
      ]
    },
    {
      "cell_type": "markdown",
      "metadata": {},
      "source": [
        "#### Membuat variabel list baru bernama new_results_list untuk menyimpan hasil train model dengan hyperparameter tunning"
      ]
    },
    {
      "cell_type": "code",
      "execution_count": 182,
      "metadata": {},
      "outputs": [],
      "source": [
        "new_results_list = []"
      ]
    },
    {
      "cell_type": "markdown",
      "metadata": {},
      "source": [
        "#### Deklrasi model dengan hyperparameter tunning"
      ]
    },
    {
      "cell_type": "code",
      "execution_count": 121,
      "metadata": {
        "id": "3pVPErlTQXNH"
      },
      "outputs": [],
      "source": [
        "new_models = {\n",
        "    \"Gradient Boosting Classifier\": GradientBoostingClassifier(learning_rate=0.1,max_depth=10),\n",
        "    \"Random Forest\": RandomForestClassifier(n_estimators=100, max_depth=30),\n",
        "    \"Support Vector Machine\": SVC(C=10.0, kernel='rbf', gamma='scale'),\n",
        "    \"K-Nearest Neighbors\": KNeighborsClassifier(n_neighbors=5, weights='distance', p=1)\n",
        "}"
      ]
    },
    {
      "cell_type": "markdown",
      "metadata": {},
      "source": [
        "#### Melakukan train model hyperparameter tunning"
      ]
    },
    {
      "cell_type": "code",
      "execution_count": 183,
      "metadata": {
        "id": "oC1dfA8gQnhY"
      },
      "outputs": [],
      "source": [
        "# Classification Model Reports\n",
        "for name, model in new_models.items():\n",
        "    # Assuming models is a dictionary containing your classifier instances\n",
        "    model.fit(X_train, y_train)\n",
        "    y_pred = model.predict(X_test)\n",
        "\n",
        "    # Calculate accuracy\n",
        "    accuracy = accuracy_score(y_test, y_pred)\n",
        "\n",
        "    # Generate classification report\n",
        "    report_dict = classification_report(y_test, y_pred, output_dict=True)\n",
        "\n",
        "    # Extract precision, recall, and f1-score\n",
        "    precision = report_dict['weighted avg']['precision']\n",
        "    recall = report_dict['weighted avg']['recall']\n",
        "    f1_score = report_dict['weighted avg']['f1-score']\n",
        "\n",
        "    # Append results to list\n",
        "    new_results_list.append({\n",
        "        'New Model': name,\n",
        "        'New Accuracy': accuracy,\n",
        "        'New Precision': precision,\n",
        "        'New Recall': recall,\n",
        "        'New F1 Score': f1_score\n",
        "    })"
      ]
    },
    {
      "cell_type": "markdown",
      "metadata": {},
      "source": [
        "#### Convert hasil train model hyperparameter tunning ke dalam dataframe baru new_results_train_df"
      ]
    },
    {
      "cell_type": "code",
      "execution_count": 184,
      "metadata": {
        "colab": {
          "base_uri": "https://localhost:8080/",
          "height": 175
        },
        "id": "CC2VXd8ORIlo",
        "outputId": "cad0b55f-70c3-4f5a-bb92-bc7a4e7ef22e"
      },
      "outputs": [],
      "source": [
        "# Convert list of dictionaries to DataFrame\n",
        "new_results_train_df= pd.DataFrame(new_results_list)"
      ]
    },
    {
      "cell_type": "markdown",
      "metadata": {},
      "source": [
        "#### Melihat hasil dataframe new_results_train_df"
      ]
    },
    {
      "cell_type": "code",
      "execution_count": 185,
      "metadata": {
        "colab": {
          "base_uri": "https://localhost:8080/",
          "height": 502
        },
        "id": "4zdMSV2qRNT2",
        "outputId": "20a2d77a-198d-4fbb-8c3b-190319bf5e06"
      },
      "outputs": [
        {
          "data": {
            "text/html": [
              "<div>\n",
              "<style scoped>\n",
              "    .dataframe tbody tr th:only-of-type {\n",
              "        vertical-align: middle;\n",
              "    }\n",
              "\n",
              "    .dataframe tbody tr th {\n",
              "        vertical-align: top;\n",
              "    }\n",
              "\n",
              "    .dataframe thead th {\n",
              "        text-align: right;\n",
              "    }\n",
              "</style>\n",
              "<table border=\"1\" class=\"dataframe\">\n",
              "  <thead>\n",
              "    <tr style=\"text-align: right;\">\n",
              "      <th></th>\n",
              "      <th>New Model</th>\n",
              "      <th>New Accuracy</th>\n",
              "      <th>New Precision</th>\n",
              "      <th>New Recall</th>\n",
              "      <th>New F1 Score</th>\n",
              "    </tr>\n",
              "  </thead>\n",
              "  <tbody>\n",
              "    <tr>\n",
              "      <th>0</th>\n",
              "      <td>Gradient Boosting Classifier</td>\n",
              "      <td>0.930070</td>\n",
              "      <td>0.930211</td>\n",
              "      <td>0.930070</td>\n",
              "      <td>0.930123</td>\n",
              "    </tr>\n",
              "    <tr>\n",
              "      <th>1</th>\n",
              "      <td>Random Forest</td>\n",
              "      <td>0.905095</td>\n",
              "      <td>0.907479</td>\n",
              "      <td>0.905095</td>\n",
              "      <td>0.905786</td>\n",
              "    </tr>\n",
              "    <tr>\n",
              "      <th>2</th>\n",
              "      <td>Support Vector Machine</td>\n",
              "      <td>0.602398</td>\n",
              "      <td>0.636580</td>\n",
              "      <td>0.602398</td>\n",
              "      <td>0.607443</td>\n",
              "    </tr>\n",
              "    <tr>\n",
              "      <th>3</th>\n",
              "      <td>K-Nearest Neighbors</td>\n",
              "      <td>0.858142</td>\n",
              "      <td>0.861380</td>\n",
              "      <td>0.858142</td>\n",
              "      <td>0.859058</td>\n",
              "    </tr>\n",
              "  </tbody>\n",
              "</table>\n",
              "</div>"
            ],
            "text/plain": [
              "                      New Model  New Accuracy  New Precision  New Recall  \\\n",
              "0  Gradient Boosting Classifier      0.930070       0.930211    0.930070   \n",
              "1                 Random Forest      0.905095       0.907479    0.905095   \n",
              "2        Support Vector Machine      0.602398       0.636580    0.602398   \n",
              "3           K-Nearest Neighbors      0.858142       0.861380    0.858142   \n",
              "\n",
              "   New F1 Score  \n",
              "0      0.930123  \n",
              "1      0.905786  \n",
              "2      0.607443  \n",
              "3      0.859058  "
            ]
          },
          "execution_count": 185,
          "metadata": {},
          "output_type": "execute_result"
        }
      ],
      "source": [
        "# Display dataframe \n",
        "new_results_train_df"
      ]
    },
    {
      "cell_type": "markdown",
      "metadata": {},
      "source": [
        "### Visualisasi Perbandingan Model\n",
        "\n",
        "Model sebelum di hyperparameter tunning dengan model hyperparameter tunning"
      ]
    },
    {
      "cell_type": "markdown",
      "metadata": {},
      "source": [
        "#### Menggabungkan dataframe sebelum tunning dan sesudah tunning"
      ]
    },
    {
      "cell_type": "code",
      "execution_count": 188,
      "metadata": {},
      "outputs": [],
      "source": [
        "\n",
        "combined_df = pd.concat([results_train_df, new_results_train_df], axis=1)"
      ]
    },
    {
      "cell_type": "markdown",
      "metadata": {},
      "source": [
        "#### Drop not important column"
      ]
    },
    {
      "cell_type": "code",
      "execution_count": 189,
      "metadata": {},
      "outputs": [
        {
          "data": {
            "text/html": [
              "<div>\n",
              "<style scoped>\n",
              "    .dataframe tbody tr th:only-of-type {\n",
              "        vertical-align: middle;\n",
              "    }\n",
              "\n",
              "    .dataframe tbody tr th {\n",
              "        vertical-align: top;\n",
              "    }\n",
              "\n",
              "    .dataframe thead th {\n",
              "        text-align: right;\n",
              "    }\n",
              "</style>\n",
              "<table border=\"1\" class=\"dataframe\">\n",
              "  <thead>\n",
              "    <tr style=\"text-align: right;\">\n",
              "      <th></th>\n",
              "      <th>Model</th>\n",
              "      <th>Accuracy</th>\n",
              "      <th>New Accuracy</th>\n",
              "    </tr>\n",
              "  </thead>\n",
              "  <tbody>\n",
              "    <tr>\n",
              "      <th>0</th>\n",
              "      <td>Gradient Boosting Classifier</td>\n",
              "      <td>0.922078</td>\n",
              "      <td>0.930070</td>\n",
              "    </tr>\n",
              "    <tr>\n",
              "      <th>1</th>\n",
              "      <td>Random Forest</td>\n",
              "      <td>0.904096</td>\n",
              "      <td>0.905095</td>\n",
              "    </tr>\n",
              "    <tr>\n",
              "      <th>2</th>\n",
              "      <td>Support Vector Machine</td>\n",
              "      <td>0.568432</td>\n",
              "      <td>0.602398</td>\n",
              "    </tr>\n",
              "    <tr>\n",
              "      <th>3</th>\n",
              "      <td>K-Nearest Neighbors</td>\n",
              "      <td>0.792208</td>\n",
              "      <td>0.858142</td>\n",
              "    </tr>\n",
              "  </tbody>\n",
              "</table>\n",
              "</div>"
            ],
            "text/plain": [
              "                          Model  Accuracy  New Accuracy\n",
              "0  Gradient Boosting Classifier  0.922078      0.930070\n",
              "1                 Random Forest  0.904096      0.905095\n",
              "2        Support Vector Machine  0.568432      0.602398\n",
              "3           K-Nearest Neighbors  0.792208      0.858142"
            ]
          },
          "execution_count": 189,
          "metadata": {},
          "output_type": "execute_result"
        }
      ],
      "source": [
        "# Drop not important column\n",
        "combined_df.drop(columns=['New Model', 'Precision', 'Recall', 'F1 Score', 'New Precision', 'New Recall', 'New F1 Score'], inplace=True)\n",
        "\n",
        "combined_df"
      ]
    },
    {
      "cell_type": "markdown",
      "metadata": {},
      "source": [
        "#### Membuat visualisasi perbandingan Model dengan parameternya adalah akurasi"
      ]
    },
    {
      "cell_type": "code",
      "execution_count": 190,
      "metadata": {},
      "outputs": [
        {
          "data": {
            "image/png": "[encoded data removed]",
            "text/plain": [
              "<Figure size 1000x600 with 1 Axes>"
            ]
          },
          "metadata": {},
          "output_type": "display_data"
        }
      ],
      "source": [
        "# Set 'Model' column as index\n",
        "combined_df.set_index('Model', inplace=True)\n",
        "\n",
        "# Plot the DataFrame\n",
        "combined_df.plot(kind='bar', figsize=(10, 6))\n",
        "\n",
        "# Set plot labels and title\n",
        "plt.xlabel('Model')\n",
        "plt.ylabel('Accuracy')\n",
        "plt.title('Comparison of Accuracy and New Accuracy for Each Model')\n",
        "\n",
        "# Rotate x-axis labels for better readability\n",
        "plt.xticks(rotation=45, ha='right')\n",
        "\n",
        "# Show the plot\n",
        "plt.tight_layout()\n",
        "plt.show()"
      ]
    }
  ],
  "metadata": {
    "colab": {
      "collapsed_sections": [
        "cToau4pJR9Ul",
        "znRQB98eDdSV",
        "fE_UMEF0DBC3",
        "xNzpx-lJor26",
        "H6CQjPhTIXtT",
        "7B9Qpdj9JZhU",
        "rIgkM6r7JtsL",
        "h3pxVsWoKCsB",
        "fYyEq_6gqdgi",
        "wNE9-clxqhKH",
        "UWScGPi1r-LO",
        "g-jd3CgqSGnr",
        "C8r45vj5N7qP"
      ],
      "provenance": []
    },
    "kernelspec": {
      "display_name": "Python 3 (ipykernel)",
      "language": "python",
      "name": "python3"
    },
    "language_info": {
      "codemirror_mode": {
        "name": "ipython",
        "version": 3
      },
      "file_extension": ".py",
      "mimetype": "text/x-python",
      "name": "python",
      "nbconvert_exporter": "python",
      "pygments_lexer": "ipython3",
      "version": "3.10.9"
    }
  },
  "nbformat": 4,
  "nbformat_minor": 0
}
